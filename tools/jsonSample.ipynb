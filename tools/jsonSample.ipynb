{
 "cells": [
  {
   "cell_type": "code",
   "execution_count": 1,
   "metadata": {},
   "outputs": [],
   "source": [
    "import json"
   ]
  },
  {
   "cell_type": "code",
   "execution_count": 2,
   "metadata": {},
   "outputs": [],
   "source": [
    "#with open('btcusdt.json') as f:\n",
    "#    df = json.load(f)\n",
    "# jsonファイルを読み込む\n",
    "f = open(\"btcusdt.json\")\n",
    "# jsonデータを読み込んだファイルオブジェクトからPythonデータを作成\n",
    "df = json.load(f)\n",
    "# ファイルを閉じる\n",
    "f.close()"
   ]
  },
  {
   "cell_type": "code",
   "execution_count": 3,
   "metadata": {},
   "outputs": [
    {
     "data": {
      "text/plain": [
       "dict"
      ]
     },
     "execution_count": 3,
     "metadata": {},
     "output_type": "execute_result"
    }
   ],
   "source": [
    "type(df)"
   ]
  },
  {
   "cell_type": "code",
   "execution_count": 4,
   "metadata": {},
   "outputs": [],
   "source": [
    "# キレイに表示\n",
    "#print(json.dumps(df, sort_keys=True, indent=4))"
   ]
  },
  {
   "cell_type": "code",
   "execution_count": 5,
   "metadata": {},
   "outputs": [
    {
     "data": {
      "text/plain": [
       "dict_keys(['code', 'message', 'data'])"
      ]
     },
     "execution_count": 5,
     "metadata": {},
     "output_type": "execute_result"
    }
   ],
   "source": [
    "df.keys()"
   ]
  },
  {
   "cell_type": "code",
   "execution_count": 6,
   "metadata": {},
   "outputs": [
    {
     "name": "stdout",
     "output_type": "stream",
     "text": [
      "0\n",
      "OK\n"
     ]
    }
   ],
   "source": [
    "# 中身に直接アクセス\n",
    "print(df[\"code\"])\n",
    "print(df['message'])"
   ]
  },
  {
   "cell_type": "code",
   "execution_count": 7,
   "metadata": {},
   "outputs": [
    {
     "name": "stdout",
     "output_type": "stream",
     "text": [
      "code\n",
      "message\n",
      "data\n"
     ]
    }
   ],
   "source": [
    "for k in df:\n",
    "    print(k)"
   ]
  },
  {
   "cell_type": "code",
   "execution_count": 8,
   "metadata": {},
   "outputs": [
    {
     "name": "stdout",
     "output_type": "stream",
     "text": [
      "dict_keys(['code', 'message', 'data'])\n",
      "<class 'dict_keys'>\n"
     ]
    }
   ],
   "source": [
    "keys = df.keys()\n",
    "print(keys)\n",
    "print(type(keys))"
   ]
  },
  {
   "cell_type": "code",
   "execution_count": 9,
   "metadata": {},
   "outputs": [
    {
     "name": "stdout",
     "output_type": "stream",
     "text": [
      "<class 'list'>\n"
     ]
    }
   ],
   "source": [
    "v_list = list(df.values())\n",
    "#print(v_list)\n",
    "print(type(v_list))"
   ]
  },
  {
   "cell_type": "code",
   "execution_count": 10,
   "metadata": {},
   "outputs": [
    {
     "name": "stdout",
     "output_type": "stream",
     "text": [
      "<class 'tuple'>\n",
      "code\n",
      "---\n",
      "<class 'tuple'>\n",
      "message\n",
      "---\n",
      "<class 'tuple'>\n",
      "data\n",
      "---\n"
     ]
    }
   ],
   "source": [
    "for t in df.items():\n",
    "    #print(t)\n",
    "    print(type(t))\n",
    "    print(t[0])\n",
    "    #print(t[1])\n",
    "    print('---')"
   ]
  },
  {
   "cell_type": "code",
   "execution_count": 11,
   "metadata": {},
   "outputs": [],
   "source": [
    "i_list = list(df.items())"
   ]
  },
  {
   "cell_type": "code",
   "execution_count": 12,
   "metadata": {},
   "outputs": [
    {
     "name": "stdout",
     "output_type": "stream",
     "text": [
      "<class 'list'>\n"
     ]
    }
   ],
   "source": [
    "print(type(i_list))"
   ]
  },
  {
   "cell_type": "code",
   "execution_count": 13,
   "metadata": {},
   "outputs": [
    {
     "name": "stdout",
     "output_type": "stream",
     "text": [
      "('code', 0)\n",
      "<class 'tuple'>\n"
     ]
    }
   ],
   "source": [
    "print(i_list[0])\n",
    "print(type(i_list[0]))"
   ]
  },
  {
   "cell_type": "code",
   "execution_count": 14,
   "metadata": {},
   "outputs": [],
   "source": [
    "import pandas as pd"
   ]
  },
  {
   "cell_type": "code",
   "execution_count": 15,
   "metadata": {},
   "outputs": [],
   "source": [
    "df_s = pd.read_json(\"btcusdt.json\")"
   ]
  },
  {
   "cell_type": "code",
   "execution_count": 16,
   "metadata": {},
   "outputs": [
    {
     "data": {
      "text/html": [
       "<div>\n",
       "<style scoped>\n",
       "    .dataframe tbody tr th:only-of-type {\n",
       "        vertical-align: middle;\n",
       "    }\n",
       "\n",
       "    .dataframe tbody tr th {\n",
       "        vertical-align: top;\n",
       "    }\n",
       "\n",
       "    .dataframe thead th {\n",
       "        text-align: right;\n",
       "    }\n",
       "</style>\n",
       "<table border=\"1\" class=\"dataframe\">\n",
       "  <thead>\n",
       "    <tr style=\"text-align: right;\">\n",
       "      <th></th>\n",
       "      <th>code</th>\n",
       "      <th>message</th>\n",
       "      <th>data</th>\n",
       "    </tr>\n",
       "  </thead>\n",
       "  <tbody>\n",
       "    <tr>\n",
       "      <th>result</th>\n",
       "      <td>0</td>\n",
       "      <td>OK</td>\n",
       "      <td>[{'exchange_id': 'binance', 'id': 1, 'mp_id': ...</td>\n",
       "    </tr>\n",
       "    <tr>\n",
       "      <th>total_count</th>\n",
       "      <td>0</td>\n",
       "      <td>OK</td>\n",
       "      <td>912</td>\n",
       "    </tr>\n",
       "  </tbody>\n",
       "</table>\n",
       "</div>"
      ],
      "text/plain": [
       "             code message                                               data\n",
       "result          0      OK  [{'exchange_id': 'binance', 'id': 1, 'mp_id': ...\n",
       "total_count     0      OK                                                912"
      ]
     },
     "execution_count": 16,
     "metadata": {},
     "output_type": "execute_result"
    }
   ],
   "source": [
    "df_s.head()"
   ]
  },
  {
   "cell_type": "code",
   "execution_count": 17,
   "metadata": {},
   "outputs": [],
   "source": [
    "df0=df_s[\"data\"][0][0]"
   ]
  },
  {
   "cell_type": "code",
   "execution_count": 18,
   "metadata": {},
   "outputs": [
    {
     "data": {
      "text/plain": [
       "pandas.core.series.Series"
      ]
     },
     "execution_count": 18,
     "metadata": {},
     "output_type": "execute_result"
    }
   ],
   "source": [
    "type(df_s[\"data\"])"
   ]
  },
  {
   "cell_type": "code",
   "execution_count": 19,
   "metadata": {},
   "outputs": [
    {
     "data": {
      "text/plain": [
       "dict_keys(['exchange_id', 'id', 'mp_id', 'interval', 'open', 'close', 'high', 'low', 'base_volume', 'quote_volume', 'count', 'buy_base_volume', 'buy_quote_volume', 'open_at', 'close_at'])"
      ]
     },
     "execution_count": 19,
     "metadata": {},
     "output_type": "execute_result"
    }
   ],
   "source": [
    "df0.keys()"
   ]
  },
  {
   "cell_type": "code",
   "execution_count": 20,
   "metadata": {},
   "outputs": [
    {
     "data": {
      "text/plain": [
       "dict_values(['binance', 1, 57, '1h', 3873.63, 3878.19, 3881.83, 3862.7, 783.279542, 3035236.51075568, 6949, 381.965471, 1480377.91567587, 1552003200, 1552006799])"
      ]
     },
     "execution_count": 20,
     "metadata": {},
     "output_type": "execute_result"
    }
   ],
   "source": [
    "df0.values()"
   ]
  },
  {
   "cell_type": "code",
   "execution_count": 21,
   "metadata": {},
   "outputs": [],
   "source": [
    "import pandas as pd"
   ]
  },
  {
   "cell_type": "code",
   "execution_count": 22,
   "metadata": {},
   "outputs": [],
   "source": [
    "df1 = pd.read_json(\"btcusdt.json\")"
   ]
  },
  {
   "cell_type": "code",
   "execution_count": 23,
   "metadata": {},
   "outputs": [
    {
     "data": {
      "text/plain": [
       "pandas.core.frame.DataFrame"
      ]
     },
     "execution_count": 23,
     "metadata": {},
     "output_type": "execute_result"
    }
   ],
   "source": [
    "type(df1)"
   ]
  },
  {
   "cell_type": "code",
   "execution_count": 24,
   "metadata": {},
   "outputs": [
    {
     "data": {
      "text/plain": [
       "<bound method NDFrame.describe of              code message                                               data\n",
       "result          0      OK  [{'exchange_id': 'binance', 'id': 1, 'mp_id': ...\n",
       "total_count     0      OK                                                912>"
      ]
     },
     "execution_count": 24,
     "metadata": {},
     "output_type": "execute_result"
    }
   ],
   "source": [
    "df1.describe"
   ]
  },
  {
   "cell_type": "code",
   "execution_count": 25,
   "metadata": {},
   "outputs": [
    {
     "data": {
      "text/plain": [
       "Index(['code', 'message', 'data'], dtype='object')"
      ]
     },
     "execution_count": 25,
     "metadata": {},
     "output_type": "execute_result"
    }
   ],
   "source": [
    "df1.columns"
   ]
  },
  {
   "cell_type": "code",
   "execution_count": 26,
   "metadata": {},
   "outputs": [],
   "source": [
    "df2=df1['data']['result']"
   ]
  },
  {
   "cell_type": "code",
   "execution_count": 27,
   "metadata": {},
   "outputs": [],
   "source": [
    "df3=pd.DataFrame(df2)"
   ]
  },
  {
   "cell_type": "code",
   "execution_count": 28,
   "metadata": {},
   "outputs": [
    {
     "data": {
      "text/plain": [
       "pandas.core.frame.DataFrame"
      ]
     },
     "execution_count": 28,
     "metadata": {},
     "output_type": "execute_result"
    }
   ],
   "source": [
    "type(df3)"
   ]
  },
  {
   "cell_type": "code",
   "execution_count": 29,
   "metadata": {},
   "outputs": [
    {
     "data": {
      "text/plain": [
       "Index(['base_volume', 'buy_base_volume', 'buy_quote_volume', 'close',\n",
       "       'close_at', 'count', 'exchange_id', 'high', 'id', 'interval', 'low',\n",
       "       'mp_id', 'open', 'open_at', 'quote_volume'],\n",
       "      dtype='object')"
      ]
     },
     "execution_count": 29,
     "metadata": {},
     "output_type": "execute_result"
    }
   ],
   "source": [
    "df3.columns"
   ]
  },
  {
   "cell_type": "code",
   "execution_count": 30,
   "metadata": {},
   "outputs": [
    {
     "data": {
      "text/plain": [
       "(912, 15)"
      ]
     },
     "execution_count": 30,
     "metadata": {},
     "output_type": "execute_result"
    }
   ],
   "source": [
    "df3.shape"
   ]
  },
  {
   "cell_type": "code",
   "execution_count": 31,
   "metadata": {},
   "outputs": [],
   "source": [
    "#df3.head"
   ]
  },
  {
   "cell_type": "code",
   "execution_count": 32,
   "metadata": {},
   "outputs": [
    {
     "data": {
      "text/plain": [
       "count     912.000000\n",
       "mean     4347.945493\n",
       "std       518.549070\n",
       "min      3834.690000\n",
       "25%      3968.272500\n",
       "50%      4022.320000\n",
       "75%      4990.612500\n",
       "max      5363.830000\n",
       "Name: close, dtype: float64"
      ]
     },
     "execution_count": 32,
     "metadata": {},
     "output_type": "execute_result"
    }
   ],
   "source": [
    "df3[df3.columns[3]].describe()"
   ]
  },
  {
   "cell_type": "code",
   "execution_count": 33,
   "metadata": {},
   "outputs": [
    {
     "data": {
      "text/plain": [
       "count      912.000000\n",
       "mean      1406.296893\n",
       "std       1434.777026\n",
       "min        313.509458\n",
       "25%        701.135556\n",
       "50%        991.548079\n",
       "75%       1556.085051\n",
       "max      21248.059869\n",
       "Name: base_volume, dtype: float64"
      ]
     },
     "execution_count": 33,
     "metadata": {},
     "output_type": "execute_result"
    }
   ],
   "source": [
    "df3[df3.columns[0]].describe()"
   ]
  },
  {
   "cell_type": "code",
   "execution_count": 34,
   "metadata": {},
   "outputs": [],
   "source": [
    "import numpy as np \n",
    "import scipy.stats as stats\n",
    "import matplotlib.pyplot as plt\n",
    "\n",
    "def qqplot(dist):\n",
    "    plt.hist(dist, bins=30)\n",
    "    plt.show()\n",
    "    stats.probplot(dist, dist=\"norm\", plot=plt)\n",
    "    plt.show()"
   ]
  },
  {
   "cell_type": "code",
   "execution_count": 35,
   "metadata": {
    "scrolled": true
   },
   "outputs": [
    {
     "data": {
      "image/png": "[encoded data removed]",
      "text/plain": [
       "<Figure size 432x288 with 1 Axes>"
      ]
     },
     "metadata": {
      "needs_background": "light"
     },
     "output_type": "display_data"
    },
    {
     "data": {
      "image/png": "[encoded data removed]",
      "text/plain": [
       "<Figure size 432x288 with 1 Axes>"
      ]
     },
     "metadata": {
      "needs_background": "light"
     },
     "output_type": "display_data"
    }
   ],
   "source": [
    "# \n",
    "qqplot(df3[df3.columns[3]])"
   ]
  },
  {
   "cell_type": "code",
   "execution_count": 36,
   "metadata": {},
   "outputs": [
    {
     "data": {
      "text/plain": [
       "'close'"
      ]
     },
     "execution_count": 36,
     "metadata": {},
     "output_type": "execute_result"
    }
   ],
   "source": [
    "df3.columns[3]"
   ]
  },
  {
   "cell_type": "code",
   "execution_count": 37,
   "metadata": {},
   "outputs": [],
   "source": [
    "#df3['close']"
   ]
  },
  {
   "cell_type": "code",
   "execution_count": 38,
   "metadata": {},
   "outputs": [
    {
     "data": {
      "image/png": "[encoded data removed]",
      "text/plain": [
       "<Figure size 432x288 with 1 Axes>"
      ]
     },
     "metadata": {
      "needs_background": "light"
     },
     "output_type": "display_data"
    },
    {
     "data": {
      "image/png": "[encoded data removed]",
      "text/plain": [
       "<Figure size 432x288 with 1 Axes>"
      ]
     },
     "metadata": {
      "needs_background": "light"
     },
     "output_type": "display_data"
    }
   ],
   "source": [
    "# \n",
    "qqplot(np.log(df3[df3.columns[3]]))"
   ]
  },
  {
   "cell_type": "code",
   "execution_count": 39,
   "metadata": {},
   "outputs": [
    {
     "data": {
      "text/plain": [
       "0      8.263124\n",
       "1      8.260746\n",
       "2      8.262714\n",
       "3      8.262027\n",
       "4      8.265200\n",
       "5      8.267967\n",
       "6      8.272180\n",
       "7      8.268386\n",
       "8      8.264260\n",
       "9      8.265419\n",
       "10     8.271380\n",
       "11     8.266506\n",
       "12     8.267449\n",
       "13     8.270807\n",
       "14     8.272826\n",
       "15     8.270876\n",
       "16     8.270476\n",
       "17     8.271822\n",
       "18     8.272106\n",
       "19     8.273957\n",
       "20     8.272588\n",
       "21     8.264670\n",
       "22     8.256179\n",
       "23     8.259689\n",
       "24     8.262518\n",
       "25     8.263709\n",
       "26     8.264876\n",
       "27     8.262765\n",
       "28     8.263657\n",
       "29     8.265110\n",
       "         ...   \n",
       "882    8.528139\n",
       "883    8.527868\n",
       "884    8.523497\n",
       "885    8.523732\n",
       "886    8.523185\n",
       "887    8.522157\n",
       "888    8.519798\n",
       "889    8.523998\n",
       "890    8.524028\n",
       "891    8.526633\n",
       "892    8.526397\n",
       "893    8.526151\n",
       "894    8.526543\n",
       "895    8.528262\n",
       "896    8.528809\n",
       "897    8.529584\n",
       "898    8.529302\n",
       "899    8.530500\n",
       "900    8.534444\n",
       "901    8.530392\n",
       "902    8.530899\n",
       "903    8.533586\n",
       "904    8.543021\n",
       "905    8.543114\n",
       "906    8.543835\n",
       "907    8.547629\n",
       "908    8.545989\n",
       "909    8.544201\n",
       "910    8.548692\n",
       "911    8.545818\n",
       "Name: close, Length: 912, dtype: float64"
      ]
     },
     "execution_count": 39,
     "metadata": {},
     "output_type": "execute_result"
    }
   ],
   "source": [
    "np.log(df3[df3.columns[3]])"
   ]
  },
  {
   "cell_type": "code",
   "execution_count": 40,
   "metadata": {},
   "outputs": [
    {
     "data": {
      "text/plain": [
       "0      3878.19\n",
       "1      3868.98\n",
       "2      3876.60\n",
       "3      3873.94\n",
       "4      3886.25\n",
       "5      3897.02\n",
       "6      3913.47\n",
       "7      3898.65\n",
       "8      3882.60\n",
       "9      3887.10\n",
       "10     3910.34\n",
       "11     3891.33\n",
       "12     3895.00\n",
       "13     3908.10\n",
       "14     3916.00\n",
       "15     3908.37\n",
       "16     3906.81\n",
       "17     3912.07\n",
       "18     3913.18\n",
       "19     3920.43\n",
       "20     3915.07\n",
       "21     3884.19\n",
       "22     3851.35\n",
       "23     3864.89\n",
       "24     3875.84\n",
       "25     3880.46\n",
       "26     3884.99\n",
       "27     3876.80\n",
       "28     3880.26\n",
       "29     3885.90\n",
       "        ...   \n",
       "882    5055.03\n",
       "883    5053.66\n",
       "884    5031.62\n",
       "885    5032.80\n",
       "886    5030.05\n",
       "887    5024.88\n",
       "888    5013.04\n",
       "889    5034.14\n",
       "890    5034.29\n",
       "891    5047.42\n",
       "892    5046.23\n",
       "893    5044.99\n",
       "894    5046.97\n",
       "895    5055.65\n",
       "896    5058.42\n",
       "897    5062.34\n",
       "898    5060.91\n",
       "899    5066.98\n",
       "900    5087.00\n",
       "901    5066.43\n",
       "902    5069.00\n",
       "903    5082.64\n",
       "904    5130.82\n",
       "905    5131.30\n",
       "906    5135.00\n",
       "907    5154.52\n",
       "908    5146.07\n",
       "909    5136.88\n",
       "910    5160.00\n",
       "911    5145.19\n",
       "Name: close, Length: 912, dtype: float64"
      ]
     },
     "execution_count": 40,
     "metadata": {},
     "output_type": "execute_result"
    }
   ],
   "source": [
    "df3[df3.columns[3]]"
   ]
  },
  {
   "cell_type": "code",
   "execution_count": null,
   "metadata": {},
   "outputs": [],
   "source": []
  }
 ],
 "metadata": {
  "kernelspec": {
   "display_name": "Python 3",
   "language": "python",
   "name": "python3"
  },
  "language_info": {
   "codemirror_mode": {
    "name": "ipython",
    "version": 3
   },
   "file_extension": ".py",
   "mimetype": "text/x-python",
   "name": "python",
   "nbconvert_exporter": "python",
   "pygments_lexer": "ipython3",
   "version": "3.7.1"
  }
 },
 "nbformat": 4,
 "nbformat_minor": 2
}
