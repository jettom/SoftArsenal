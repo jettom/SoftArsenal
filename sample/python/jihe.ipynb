{
 "cells": [
  {
   "cell_type": "code",
   "execution_count": 1,
   "metadata": {},
   "outputs": [],
   "source": [
    "import numpy as np"
   ]
  },
  {
   "cell_type": "code",
   "execution_count": 18,
   "metadata": {},
   "outputs": [],
   "source": [
    "def dis(x,y):\n",
    "    return np.sqrt(x**2+y**2)\n",
    "def cor_p(alpha):\n",
    "    return 2*np.cos(alpha),2*np.sin(alpha)\n",
    "def cor_e(beta):\n",
    "    return 6+4*(np.cos(beta))**2+np.sin(beta)*np.cos(beta),4*(np.sin(beta))**2+np.sin(beta)*np.cos(beta)\n"
   ]
  },
  {
   "cell_type": "code",
   "execution_count": 19,
   "metadata": {},
   "outputs": [],
   "source": [
    "def l_2pe_pf(alpha,beta):\n",
    "    x_f, y_f=0,4\n",
    "    x_p, y_p=cor_p(alpha)\n",
    "    x_e, y_e=cor_e(beta)\n",
    "    return dis(x_f-x_p,y_f-y_p)+2*dis(x_e-x_p,y_e-y_p)"
   ]
  },
  {
   "cell_type": "code",
   "execution_count": 20,
   "metadata": {},
   "outputs": [],
   "source": [
    "def find_min():\n",
    "    range_size = 5000\n",
    "    alpha_range = np.linspace(0, np.pi/2, range_size)\n",
    "    beta_range = np.linspace(0, np.pi/2, range_size)\n",
    "    min_val = np.nan\n",
    "    min_alpha, min_beta = 0, 0\n",
    "    for alpha, beta in zip(alpha_range, beta_range):\n",
    "        val = l_2pe_pf(alpha, beta)\n",
    "        if np.isnan(min_val) or val<min_val:\n",
    "            min_alpha, min_beta, min_val = alpha, beta, val\n",
    "    return min_alpha, min_beta, min_val"
   ]
  },
  {
   "cell_type": "code",
   "execution_count": 21,
   "metadata": {},
   "outputs": [],
   "source": [
    "alpha, beta, val = find_min()"
   ]
  },
  {
   "cell_type": "code",
   "execution_count": null,
   "metadata": {},
   "outputs": [],
   "source": []
  },
  {
   "cell_type": "code",
   "execution_count": 23,
   "metadata": {},
   "outputs": [
    {
     "data": {
      "text/plain": [
       "(0.47349469893978796, 0.47349469893978796, 14.597303598553749)"
      ]
     },
     "execution_count": 23,
     "metadata": {},
     "output_type": "execute_result"
    }
   ],
   "source": [
    "alpha/np.pi,beta/np.pi,val"
   ]
  },
  {
   "cell_type": "code",
   "execution_count": 24,
   "metadata": {},
   "outputs": [
    {
     "data": {
      "text/plain": [
       "array([0.00000000e+00, 3.14222110e-04, 6.28444220e-04, ...,\n",
       "       1.57016788e+00, 1.57048210e+00, 1.57079633e+00])"
      ]
     },
     "execution_count": 24,
     "metadata": {},
     "output_type": "execute_result"
    }
   ],
   "source": [
    "np.linspace(0, np.pi/2, 5000)"
   ]
  },
  {
   "cell_type": "code",
   "execution_count": 25,
   "metadata": {},
   "outputs": [
    {
     "data": {
      "text/plain": [
       "nan"
      ]
     },
     "execution_count": 25,
     "metadata": {},
     "output_type": "execute_result"
    }
   ],
   "source": [
    "np.nan"
   ]
  },
  {
   "cell_type": "code",
   "execution_count": null,
   "metadata": {},
   "outputs": [],
   "source": []
  }
 ],
 "metadata": {
  "kernelspec": {
   "display_name": "Python 3",
   "language": "python",
   "name": "python3"
  },
  "language_info": {
   "codemirror_mode": {
    "name": "ipython",
    "version": 3
   },
   "file_extension": ".py",
   "mimetype": "text/x-python",
   "name": "python",
   "nbconvert_exporter": "python",
   "pygments_lexer": "ipython3",
   "version": "3.7.1"
  }
 },
 "nbformat": 4,
 "nbformat_minor": 2
}
