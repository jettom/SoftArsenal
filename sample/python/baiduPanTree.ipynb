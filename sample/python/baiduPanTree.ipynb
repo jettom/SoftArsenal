{
 "cells": [
  {
   "cell_type": "code",
   "execution_count": 38,
   "metadata": {},
   "outputs": [],
   "source": [
    "# -*- coding:utf-8 -*-\n",
    "import csv, operator\n"
   ]
  },
  {
   "cell_type": "code",
   "execution_count": 39,
   "metadata": {},
   "outputs": [],
   "source": [
    "csvreader=csv.reader(open('cache_file.csv','r', encoding='utf-8'))"
   ]
  },
  {
   "cell_type": "code",
   "execution_count": 40,
   "metadata": {},
   "outputs": [
    {
     "data": {
      "text/plain": [
       "_csv.reader"
      ]
     },
     "execution_count": 40,
     "metadata": {},
     "output_type": "execute_result"
    }
   ],
   "source": [
    "type(csvreader)"
   ]
  },
  {
   "cell_type": "code",
   "execution_count": 41,
   "metadata": {},
   "outputs": [],
   "source": [
    "csvData=list(csvreader)"
   ]
  },
  {
   "cell_type": "code",
   "execution_count": 42,
   "metadata": {},
   "outputs": [
    {
     "data": {
      "text/plain": [
       "['id',\n",
       " 'fid',\n",
       " 'parent_path',\n",
       " 'server_filename',\n",
       " 'file_size',\n",
       " 'md5',\n",
       " 'isdir',\n",
       " 'category',\n",
       " 'server_mtime',\n",
       " 'local_mtime',\n",
       " 'reserved1',\n",
       " 'reserved2',\n",
       " 'reserved3',\n",
       " 'reserved4',\n",
       " 'reserved5',\n",
       " 'reserved6',\n",
       " 'reserved7',\n",
       " 'reserved8',\n",
       " 'reserved9']"
      ]
     },
     "execution_count": 42,
     "metadata": {},
     "output_type": "execute_result"
    }
   ],
   "source": [
    "csvData[0]"
   ]
  },
  {
   "cell_type": "markdown",
   "metadata": {},
   "source": [
    "** category:\n",
    "\n",
    "* 1    mp4,mkv,wmv,avi,flc\n",
    "* 2    mp3,wma\n",
    "* 3    jpg,png\n",
    "* 4    pdf,doc,xls,txt\n",
    "* 5    exe,msi\n",
    "* 6    zip,rar\n",
    "* 7    torrent"
   ]
  },
  {
   "cell_type": "code",
   "execution_count": 43,
   "metadata": {},
   "outputs": [
    {
     "data": {
      "text/plain": [
       "['1',\n",
       " '2754818732855',\n",
       " '/AI/2016年最新从神经网络到深度学习原理精讲班 12课/第01课 跌宕起伏70年：神经网络发展概述/',\n",
       " 'DL01h.mp4',\n",
       " '125157114',\n",
       " 'ee4e46779584525ea7b805b332a822bf',\n",
       " '0',\n",
       " '1',\n",
       " '1523189002',\n",
       " '1469816430',\n",
       " '',\n",
       " '',\n",
       " '',\n",
       " '',\n",
       " '',\n",
       " '0',\n",
       " '0',\n",
       " '0',\n",
       " '0']"
      ]
     },
     "execution_count": 43,
     "metadata": {},
     "output_type": "execute_result"
    }
   ],
   "source": [
    "csvData[1]"
   ]
  },
  {
   "cell_type": "code",
   "execution_count": 44,
   "metadata": {},
   "outputs": [],
   "source": [
    "#from operator import itemgetter\n",
    "\n",
    "#csvData.sort(key=itemgetter(0))"
   ]
  },
  {
   "cell_type": "code",
   "execution_count": 45,
   "metadata": {},
   "outputs": [
    {
     "data": {
      "text/plain": [
       "18602"
      ]
     },
     "execution_count": 45,
     "metadata": {},
     "output_type": "execute_result"
    }
   ],
   "source": [
    "len(csvData)"
   ]
  },
  {
   "cell_type": "code",
   "execution_count": 46,
   "metadata": {},
   "outputs": [
    {
     "data": {
      "text/plain": [
       "['18623',\n",
       " '689537440993965',\n",
       " '/book/',\n",
       " 'classic',\n",
       " '0',\n",
       " '',\n",
       " '1',\n",
       " '6',\n",
       " '1441295766',\n",
       " '1441295766',\n",
       " '',\n",
       " '',\n",
       " '',\n",
       " '',\n",
       " '',\n",
       " '0',\n",
       " '0',\n",
       " '0',\n",
       " '0']"
      ]
     },
     "execution_count": 46,
     "metadata": {},
     "output_type": "execute_result"
    }
   ],
   "source": [
    "csvData[18599]"
   ]
  },
  {
   "cell_type": "code",
   "execution_count": 47,
   "metadata": {},
   "outputs": [],
   "source": [
    "# sort by column 4(file_size),used number sort.\n",
    "csvData1=sorted(csvData[1:], key=lambda x: int(x[4]))"
   ]
  },
  {
   "cell_type": "code",
   "execution_count": 49,
   "metadata": {},
   "outputs": [
    {
     "data": {
      "text/plain": [
       "18601"
      ]
     },
     "execution_count": 49,
     "metadata": {},
     "output_type": "execute_result"
    }
   ],
   "source": [
    "len(csvData1)"
   ]
  },
  {
   "cell_type": "code",
   "execution_count": 1,
   "metadata": {},
   "outputs": [],
   "source": [
    "#for i in range(20):\n",
    "#    print(csvData1[18600-i][4],csvData1[18600-i][2],csvData1[18600-i][3])\n"
   ]
  },
  {
   "cell_type": "code",
   "execution_count": null,
   "metadata": {},
   "outputs": [],
   "source": []
  }
 ],
 "metadata": {
  "kernelspec": {
   "display_name": "Python 3",
   "language": "python",
   "name": "python3"
  },
  "language_info": {
   "codemirror_mode": {
    "name": "ipython",
    "version": 3
   },
   "file_extension": ".py",
   "mimetype": "text/x-python",
   "name": "python",
   "nbconvert_exporter": "python",
   "pygments_lexer": "ipython3",
   "version": "3.7.1"
  }
 },
 "nbformat": 4,
 "nbformat_minor": 2
}
