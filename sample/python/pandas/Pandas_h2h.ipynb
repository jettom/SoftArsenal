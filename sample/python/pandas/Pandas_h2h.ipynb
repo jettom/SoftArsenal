{
 "cells": [
  {
   "cell_type": "code",
   "execution_count": 1,
   "metadata": {},
   "outputs": [],
   "source": [
    "#【手把手教你】玩转Python金融量化利器之Pandas (ever)\n",
    "import pandas as pd\n",
    "import numpy as np"
   ]
  },
  {
   "cell_type": "code",
   "execution_count": 2,
   "metadata": {},
   "outputs": [
    {
     "name": "stdout",
     "output_type": "stream",
     "text": [
      "A is an array:\n",
      " [ 1.62434536 -0.61175641 -0.52817175 -1.07296862  0.86540763]\n",
      "S is a Series:\n",
      " 0    1.624345\n",
      "1   -0.611756\n",
      "2   -0.528172\n",
      "3   -1.072969\n",
      "4    0.865408\n",
      "dtype: float64\n",
      "index:  RangeIndex(start=0, stop=5, step=1)\n",
      "values:  [ 1.62434536 -0.61175641 -0.52817175 -1.07296862  0.86540763]\n"
     ]
    }
   ],
   "source": [
    "np.random.seed(1)     #使用随机种子，这样每次运行random结果一致，\n",
    "A=np.random.randn(5)\n",
    "print(\"A is an array:\\n\",A)\n",
    "S = pd.Series(A)\n",
    "print(\"S is a Series:\\n\",S)\n",
    "print(\"index: \", S.index)  #默认创建索引，注意是从0开始\n",
    "print(\"values: \", S.values)"
   ]
  },
  {
   "cell_type": "code",
   "execution_count": 6,
   "metadata": {},
   "outputs": [
    {
     "name": "stdout",
     "output_type": "stream",
     "text": [
      "a   -0.416758\n",
      "b   -0.056267\n",
      "c   -2.136196\n",
      "d    1.640271\n",
      "e   -1.793436\n",
      "dtype: float64\n"
     ]
    },
    {
     "data": {
      "text/plain": [
       "Index(['a', 'b', 'c', 'd', 'e'], dtype='object')"
      ]
     },
     "execution_count": 6,
     "metadata": {},
     "output_type": "execute_result"
    }
   ],
   "source": [
    "np.random.seed(2)\n",
    "s=pd.Series(np.random.randn(5),index=['a','b','c','d','e'])\n",
    "print (s)\n",
    "s.index"
   ]
  },
  {
   "cell_type": "code",
   "execution_count": 8,
   "metadata": {},
   "outputs": [
    {
     "name": "stdout",
     "output_type": "stream",
     "text": [
      "a   -0.416758\n",
      "b   -0.056267\n",
      "c   -2.136196\n",
      "d    1.640271\n",
      "e   -1.793436\n",
      "dtype: float64\n"
     ]
    }
   ],
   "source": [
    "#通过字典（dict）来创建Series。\n",
    "stocks={'中国平安':'601318','格力电器':'000651','招商银行':'600036',\n",
    "        '中信证券':'600030','贵州茅台':'600519'}\n",
    "Series_stocks = pd.Series(stocks)\n",
    "print (s)"
   ]
  },
  {
   "cell_type": "code",
   "execution_count": 10,
   "metadata": {},
   "outputs": [
    {
     "data": {
      "text/plain": [
       "中国平安    601318\n",
       "格力电器    000651\n",
       "招商银行    600036\n",
       "中信证券    600030\n",
       "工业富联       NaN\n",
       "dtype: object"
      ]
     },
     "execution_count": 10,
     "metadata": {},
     "output_type": "execute_result"
    }
   ],
   "source": [
    "#使用字典创建Series时指定index的情形（index长度不必和字典相同）。\n",
    "pd.Series(stocks, index=['中国平安', '格力电器', '招商银行', '中信证券',\n",
    "                       '工业富联'])\n",
    "#注意，在原来的stocks（dict）里没有‘工业富联’，因此值为‘NaN’"
   ]
  },
  {
   "cell_type": "code",
   "execution_count": 11,
   "metadata": {},
   "outputs": [
    {
     "name": "stdout",
     "output_type": "stream",
     "text": [
      "股票名称\n",
      "中国平安    601318\n",
      "格力电器    000651\n",
      "招商银行    600036\n",
      "中信证券    600030\n",
      "贵州茅台    600519\n",
      "Name: 股票代码, dtype: object\n"
     ]
    }
   ],
   "source": [
    "#给数据序列和index命名：\n",
    "Series_stocks.name='股票代码'        #注意python是使用.号来连接和调用\n",
    "Series_stocks.index.name='股票名称'\n",
    "print(Series_stocks)"
   ]
  },
  {
   "cell_type": "code",
   "execution_count": 13,
   "metadata": {},
   "outputs": [
    {
     "data": {
      "text/plain": [
       "a    1.788628\n",
       "b    0.436510\n",
       "c    0.096497\n",
       "d   -1.863493\n",
       "e   -0.277388\n",
       "dtype: float64"
      ]
     },
     "execution_count": 13,
     "metadata": {},
     "output_type": "execute_result"
    }
   ],
   "source": [
    "#1.2 Series数据的访问\n",
    "#Series对象的下标运算同时支持位置和标签两种方式\n",
    "np.random.seed(3)\n",
    "data=np.random.randn(5)\n",
    "s = pd.Series(data,index=['a', 'b', 'c', 'd', 'e'])\n",
    "s"
   ]
  },
  {
   "cell_type": "code",
   "execution_count": 14,
   "metadata": {},
   "outputs": [
    {
     "data": {
      "text/plain": [
       "a    1.788628\n",
       "b    0.436510\n",
       "dtype: float64"
      ]
     },
     "execution_count": 14,
     "metadata": {},
     "output_type": "execute_result"
    }
   ],
   "source": [
    "s[:2]   #取出第0、1行数据"
   ]
  },
  {
   "cell_type": "code",
   "execution_count": 15,
   "metadata": {},
   "outputs": [
    {
     "data": {
      "text/plain": [
       "c    0.096497\n",
       "a    1.788628\n",
       "e   -0.277388\n",
       "dtype: float64"
      ]
     },
     "execution_count": 15,
     "metadata": {},
     "output_type": "execute_result"
    }
   ],
   "source": [
    "s[[2,0,4]]  #取出第2、0、4行数据"
   ]
  },
  {
   "cell_type": "code",
   "execution_count": 16,
   "metadata": {},
   "outputs": [
    {
     "data": {
      "text/plain": [
       "e   -0.277388\n",
       "a    1.788628\n",
       "dtype: float64"
      ]
     },
     "execution_count": 16,
     "metadata": {},
     "output_type": "execute_result"
    }
   ],
   "source": [
    "s[['e', 'a']] #取出‘e’、‘a’对应数据"
   ]
  },
  {
   "cell_type": "code",
   "execution_count": 18,
   "metadata": {},
   "outputs": [
    {
     "data": {
      "text/plain": [
       "j    1.788628\n",
       "a    0.436510\n",
       "c    0.096497\n",
       "b   -1.863493\n",
       "d   -0.277388\n",
       "e   -0.354759\n",
       "h   -0.082741\n",
       "f   -0.627001\n",
       "g   -0.043818\n",
       "i   -0.477218\n",
       "dtype: float64"
      ]
     },
     "execution_count": 18,
     "metadata": {},
     "output_type": "execute_result"
    }
   ],
   "source": [
    "#1.3 Series排序函数\n",
    "np.random.seed(3)\n",
    "data=np.random.randn(10)\n",
    "s = pd.Series(data,index=['j','a', 'c','b', 'd', 'e','h','f','g','i'])\n",
    "s"
   ]
  },
  {
   "cell_type": "code",
   "execution_count": 19,
   "metadata": {},
   "outputs": [
    {
     "data": {
      "text/plain": [
       "a    0.436510\n",
       "b   -1.863493\n",
       "c    0.096497\n",
       "d   -0.277388\n",
       "e   -0.354759\n",
       "f   -0.627001\n",
       "g   -0.043818\n",
       "h   -0.082741\n",
       "i   -0.477218\n",
       "j    1.788628\n",
       "dtype: float64"
      ]
     },
     "execution_count": 19,
     "metadata": {},
     "output_type": "execute_result"
    }
   ],
   "source": [
    "#排序\n",
    "s.sort_index(ascending=True) #按index从小到大，False从大到小"
   ]
  },
  {
   "cell_type": "code",
   "execution_count": 20,
   "metadata": {},
   "outputs": [
    {
     "data": {
      "text/plain": [
       "b   -1.863493\n",
       "f   -0.627001\n",
       "i   -0.477218\n",
       "e   -0.354759\n",
       "d   -0.277388\n",
       "h   -0.082741\n",
       "g   -0.043818\n",
       "c    0.096497\n",
       "a    0.436510\n",
       "j    1.788628\n",
       "dtype: float64"
      ]
     },
     "execution_count": 20,
     "metadata": {},
     "output_type": "execute_result"
    }
   ],
   "source": [
    "s.sort_values(ascending=True)"
   ]
  },
  {
   "cell_type": "code",
   "execution_count": 21,
   "metadata": {},
   "outputs": [
    {
     "data": {
      "text/plain": [
       "j    10.0\n",
       "a     9.0\n",
       "c     8.0\n",
       "b     1.0\n",
       "d     5.0\n",
       "e     4.0\n",
       "h     6.0\n",
       "f     2.0\n",
       "g     7.0\n",
       "i     3.0\n",
       "dtype: float64"
      ]
     },
     "execution_count": 21,
     "metadata": {},
     "output_type": "execute_result"
    }
   ],
   "source": [
    "s.rank(method='average',ascending=True,axis=0) #每个数的平均排名"
   ]
  },
  {
   "cell_type": "code",
   "execution_count": 22,
   "metadata": {},
   "outputs": [
    {
     "name": "stdout",
     "output_type": "stream",
     "text": [
      "j\n",
      "b\n"
     ]
    }
   ],
   "source": [
    "#返回含有最大值的索引位置：\n",
    "print(s.idxmax())\n",
    "#返回含有最小值的索引位置：\n",
    "print(s.idxmin())"
   ]
  },
  {
   "cell_type": "code",
   "execution_count": 23,
   "metadata": {},
   "outputs": [
    {
     "name": "stdout",
     "output_type": "stream",
     "text": [
      "   one  two  three  four five\n",
      "a  1.0  1.0      0   1.0    f\n",
      "b  2.0  2.0      1   1.0    f\n",
      "c  3.0  3.0      2   1.0    f\n",
      "d  NaN  4.0      3   1.0    f\n"
     ]
    }
   ],
   "source": [
    "#2.1 DataFrame数据表的创建\n",
    "#DataFrame是多个Series的集合体。\n",
    "#先创建一个值是Series的字典，并转换为DataFrame。\n",
    "#通过字典创建DataFrame\n",
    "d={'one':pd.Series([1.,2.,3.],index=['a','b','c']),\n",
    "   'two':pd.Series([1.,2.,3.,4.,],index=['a','b','c','d']),\n",
    "   'three':range(4),\n",
    "   'four':1.,\n",
    "   'five':'f'}\n",
    "df=pd.DataFrame(d)\n",
    "print (df)"
   ]
  },
  {
   "cell_type": "code",
   "execution_count": 24,
   "metadata": {},
   "outputs": [
    {
     "name": "stdout",
     "output_type": "stream",
     "text": [
      "DataFrame index:\n",
      " Index(['a', 'b', 'c', 'd'], dtype='object')\n",
      "DataFrame columns:\n",
      " Index(['one', 'two', 'three', 'four', 'five'], dtype='object')\n",
      "DataFrame values:\n",
      " [[1.0 1.0 0 1.0 'f']\n",
      " [2.0 2.0 1 1.0 'f']\n",
      " [3.0 3.0 2 1.0 'f']\n",
      " [nan 4.0 3 1.0 'f']]\n"
     ]
    }
   ],
   "source": [
    "#可以使用dataframe.index和dataframe.columns来查看DataFrame的行和列，\n",
    "#dataframe.values则以数组的形式返回DataFrame的元素\n",
    "print (\"DataFrame index:\\n\",df.index)\n",
    "print (\"DataFrame columns:\\n\",df.columns)\n",
    "print (\"DataFrame values:\\n\",df.values)"
   ]
  },
  {
   "cell_type": "code",
   "execution_count": 27,
   "metadata": {},
   "outputs": [
    {
     "name": "stdout",
     "output_type": "stream",
     "text": [
      "   one  two\n",
      "a  1.0  4.0\n",
      "b  2.0  3.0\n",
      "c  3.0  2.0\n",
      "d  4.0  1.0\n"
     ]
    }
   ],
   "source": [
    "#DataFrame也可以从值是数组的字典创建，但是各个数组的长度需要相同：\n",
    "d = {'one': [1., 2., 3., 4.], 'two': [4., 3., 2., 1.]}\n",
    "df = pd.DataFrame(d, index=['a', 'b', 'c', 'd'])\n",
    "print (df)"
   ]
  },
  {
   "cell_type": "code",
   "execution_count": 28,
   "metadata": {},
   "outputs": [
    {
     "name": "stdout",
     "output_type": "stream",
     "text": [
      "     a  b    c\n",
      "0  1.6  2  NaN\n",
      "1  3.0  6  9.0\n"
     ]
    }
   ],
   "source": [
    "#值非数组时，没有这一限制，并且缺失值补成NaN\n",
    "d= [{'a': 1.6, 'b': 2}, {'a': 3, 'b': 6, 'c': 9}]\n",
    "df = pd.DataFrame(d)\n",
    "print (df)"
   ]
  },
  {
   "cell_type": "code",
   "execution_count": 30,
   "metadata": {},
   "outputs": [
    {
     "name": "stdout",
     "output_type": "stream",
     "text": [
      "Empty DataFrame\n",
      "Columns: []\n",
      "Index: []\n"
     ]
    }
   ],
   "source": [
    "#在实际处理数据时，有时需要创建一个空的DataFrame，可以这么做\n",
    "df = pd.DataFrame()\n",
    "print (df)"
   ]
  },
  {
   "cell_type": "code",
   "execution_count": 32,
   "metadata": {},
   "outputs": [
    {
     "name": "stdout",
     "output_type": "stream",
     "text": [
      "   0     1\n",
      "0  0   4.0\n",
      "1  1   8.0\n",
      "2  2  12.0\n",
      "3  3  16.0\n",
      "4  4  20.0\n"
     ]
    }
   ],
   "source": [
    "#另一种创建DataFrame的方法十分有用，那就是使用concat函数基于Series\n",
    "#或者DataFrame创建一个DataFrame\n",
    "a = pd.Series(range(5))   #range(5)产生0到4\n",
    "b = pd.Series(np.linspace(4, 20, 5)) #linspace(a,b,c)\n",
    "df = pd.concat([a, b], axis=1)\n",
    "print (df)"
   ]
  },
  {
   "cell_type": "code",
   "execution_count": 33,
   "metadata": {},
   "outputs": [
    {
     "name": "stdout",
     "output_type": "stream",
     "text": [
      "         0    1     2     3     4\n",
      "alpha  0.0  0.0   0.0   0.0   0.0\n",
      "beta   1.0  2.0   3.0   4.0   5.0\n",
      "gamma  2.0  4.0   6.0   8.0  10.0\n",
      "delta  3.0  6.0   9.0  12.0  15.0\n",
      "eta    4.0  8.0  12.0  16.0  20.0\n"
     ]
    }
   ],
   "source": [
    "#データ分析ライブラリからSeriesとDataFrameをインポート\n",
    "from pandas import Series, DataFrame\n",
    "#其中的axis=1表示按列进行合并，axis=0表示按行合并，\n",
    "#并且，Series都处理成一列，所以这里如果选axis=0的话，\n",
    "#将得到一个10×1的DataFrame。下面这个例子展示了如何按行合并\n",
    "#DataFrame成一个大的DataFrame：\n",
    "df = DataFrame()\n",
    "index = ['alpha', 'beta', 'gamma', 'delta', 'eta']\n",
    "for i in range(5):\n",
    "    a = DataFrame([np.linspace(i, 5*i, 5)], index=[index[i]])\n",
    "    df = pd.concat([df, a], axis=0)\n",
    "print (df)"
   ]
  },
  {
   "cell_type": "code",
   "execution_count": 34,
   "metadata": {},
   "outputs": [
    {
     "name": "stdout",
     "output_type": "stream",
     "text": [
      "df: \n",
      "          0    1     2     3     4\n",
      "alpha  0.0  0.0   0.0   0.0   0.0\n",
      "beta   1.0  2.0   3.0   4.0   5.0\n",
      "gamma  2.0  4.0   6.0   8.0  10.0\n",
      "delta  3.0  6.0   9.0  12.0  15.0\n",
      "eta    4.0  8.0  12.0  16.0  20.0\n",
      "df[1]:\n",
      " alpha    0.0\n",
      "beta     2.0\n",
      "gamma    4.0\n",
      "delta    6.0\n",
      "eta      8.0\n",
      "Name: 1, dtype: float64\n",
      "df: \n",
      "          a    b     c     d     e\n",
      "alpha  0.0  0.0   0.0   0.0   0.0\n",
      "beta   1.0  2.0   3.0   4.0   5.0\n",
      "gamma  2.0  4.0   6.0   8.0  10.0\n",
      "delta  3.0  6.0   9.0  12.0  15.0\n",
      "eta    4.0  8.0  12.0  16.0  20.0\n",
      "df[b]:\n",
      " alpha    0.0\n",
      "beta     2.0\n",
      "gamma    4.0\n",
      "delta    6.0\n",
      "eta      8.0\n",
      "Name: b, dtype: float64\n",
      "df.b:\n",
      " alpha    0.0\n",
      "beta     2.0\n",
      "gamma    4.0\n",
      "delta    6.0\n",
      "eta      8.0\n",
      "Name: b, dtype: float64\n",
      "df[['a','b']]:\n",
      "          a     d\n",
      "alpha  0.0   0.0\n",
      "beta   1.0   4.0\n",
      "gamma  2.0   8.0\n",
      "delta  3.0  12.0\n",
      "eta    4.0  16.0\n"
     ]
    }
   ],
   "source": [
    "#2.2 DataFrame数据的访问\n",
    "#DataFrame是以列作为操作的基础的，全部操作都想象成先从DataFrame里取一列，\n",
    "#再从这个Series取元素即可。\n",
    "#可以用datafrae.column_name选取列，也可以使用dataframe[]操作选取列\n",
    "df = DataFrame()\n",
    "index = ['alpha', 'beta', 'gamma', 'delta', 'eta']\n",
    "for i in range(5):\n",
    "    a = DataFrame([np.linspace(i, 5*i, 5)], index=[index[i]])\n",
    "    df = pd.concat([df, a], axis=0)\n",
    "print('df: \\n',df)\n",
    "print (\"df[1]:\\n\",df[1])\n",
    "df.columns = ['a', 'b', 'c', 'd', 'e']\n",
    "print('df: \\n',df)\n",
    "print (\"df[b]:\\n\",df['b'])\n",
    "print (\"df.b:\\n\",df.b)\n",
    "print (\"df[['a','b']]:\\n\",df[['a', 'd']])"
   ]
  },
  {
   "cell_type": "code",
   "execution_count": 35,
   "metadata": {},
   "outputs": [
    {
     "name": "stdout",
     "output_type": "stream",
     "text": [
      "4.0\n",
      "4.0\n"
     ]
    }
   ],
   "source": [
    "#访问特定的元素可以如Series一样使用下标或者是索引:\n",
    "print (df['b'][2])       #第b列，第3行（从0开始算）\n",
    "print (df['b']['gamma']) #第b列，gamma对应行"
   ]
  },
  {
   "cell_type": "code",
   "execution_count": 36,
   "metadata": {},
   "outputs": [
    {
     "name": "stdout",
     "output_type": "stream",
     "text": [
      "a    1.0\n",
      "b    2.0\n",
      "c    3.0\n",
      "d    4.0\n",
      "e    5.0\n",
      "Name: beta, dtype: float64\n",
      "a    1.0\n",
      "b    2.0\n",
      "c    3.0\n",
      "d    4.0\n",
      "e    5.0\n",
      "Name: beta, dtype: float64\n"
     ]
    }
   ],
   "source": [
    "##### df.loc['列或行名']，df.iloc[n]第n行，df.iloc[:,n]第n列\n",
    "#若需要选取行，可以使用dataframe.iloc按下标选取，\n",
    "#或者使用dataframe.loc按索引选取\n",
    "print (df.iloc[1])    #选取第一行元素\n",
    "print (df.loc['beta'])#选取beta对应行元素"
   ]
  },
  {
   "cell_type": "code",
   "execution_count": 37,
   "metadata": {},
   "outputs": [
    {
     "name": "stdout",
     "output_type": "stream",
     "text": [
      "切片取数:\n",
      "          a    b    c    d     e\n",
      "beta   1.0  2.0  3.0  4.0   5.0\n",
      "gamma  2.0  4.0  6.0  8.0  10.0\n",
      "根据布尔类型取值:\n",
      "          a    b    c     d     e\n",
      "alpha  0.0  0.0  0.0   0.0   0.0\n",
      "gamma  2.0  4.0  6.0   8.0  10.0\n",
      "delta  3.0  6.0  9.0  12.0  15.0\n"
     ]
    }
   ],
   "source": [
    "#选取行还可以使用切片的方式或者是布尔类型的向量：\n",
    "print (\"切片取数:\\n\",df[1:3])\n",
    "bool_vec = [True, False, True, True, False]\n",
    "print (\"根据布尔类型取值:\\n\",df[bool_vec]) #相当于选取第0、2、3行"
   ]
  },
  {
   "cell_type": "code",
   "execution_count": 38,
   "metadata": {},
   "outputs": [
    {
     "name": "stdout",
     "output_type": "stream",
     "text": [
      "         b     d\n",
      "beta   2.0   4.0\n",
      "delta  6.0  12.0\n",
      "         b     d\n",
      "beta   2.0   4.0\n",
      "delta  6.0  12.0\n",
      "         b     d\n",
      "beta   2.0   4.0\n",
      "delta  6.0  12.0\n",
      "         b     d\n",
      "beta   2.0   4.0\n",
      "delta  6.0  12.0\n"
     ]
    }
   ],
   "source": [
    "#行列组合起来选取数据：\n",
    "print (df[['b', 'd']].iloc[[1, 3]])\n",
    "print (df.iloc[[1, 3]][['b', 'd']])\n",
    "print (df[['b', 'd']].loc[['beta', 'delta']])\n",
    "print (df.loc[['beta', 'delta']][['b', 'd']])"
   ]
  },
  {
   "cell_type": "code",
   "execution_count": 39,
   "metadata": {},
   "outputs": [
    {
     "name": "stdout",
     "output_type": "stream",
     "text": [
      "         a    b     c     d     e\n",
      "alpha  0.0  0.0   0.0   0.0   0.0\n",
      "beta   1.0  2.0   3.0   4.0   5.0\n",
      "gamma  2.0  4.0   6.0   8.0  10.0\n",
      "delta  3.0  6.0   9.0  12.0  15.0\n",
      "eta    4.0  8.0  12.0  16.0  20.0\n",
      "8.0\n",
      "8.0\n"
     ]
    }
   ],
   "source": [
    "#如果不是需要访问特定行列，而只是某个特殊位置的元素的话，\n",
    "#dataframe.at和dataframe.iat\n",
    "#是最快的方式，它们分别用于使用索引和下标进行访问\n",
    "print(df)\n",
    "print (df.iat[2, 3])  #相当于第3行第4列\n",
    "print (df.at['gamma', 'd'])"
   ]
  },
  {
   "cell_type": "code",
   "execution_count": 41,
   "metadata": {},
   "outputs": [
    {
     "name": "stdout",
     "output_type": "stream",
     "text": [
      "DatetimeIndex(['2018-01-31', '2018-02-28', '2018-03-31', '2018-04-30',\n",
      "               '2018-05-31', '2018-06-30', '2018-07-31', '2018-08-31',\n",
      "               '2018-09-30', '2018-10-31', '2018-11-30', '2018-12-31'],\n",
      "              dtype='datetime64[ns]', freq='M')\n"
     ]
    }
   ],
   "source": [
    "#2.3创建时间序列\n",
    "#pandas.date_range(start=None, end=None, periods=None, freq='D',\n",
    "#   tz=None, normalize=False, name=None, closed=None, **kwargs)\n",
    "dates=pd.date_range('20180101',periods=12,freq='m')\n",
    "print (dates)"
   ]
  },
  {
   "cell_type": "code",
   "execution_count": 42,
   "metadata": {},
   "outputs": [
    {
     "data": {
      "text/html": [
       "<div>\n",
       "<style scoped>\n",
       "    .dataframe tbody tr th:only-of-type {\n",
       "        vertical-align: middle;\n",
       "    }\n",
       "\n",
       "    .dataframe tbody tr th {\n",
       "        vertical-align: top;\n",
       "    }\n",
       "\n",
       "    .dataframe thead th {\n",
       "        text-align: right;\n",
       "    }\n",
       "</style>\n",
       "<table border=\"1\" class=\"dataframe\">\n",
       "  <thead>\n",
       "    <tr style=\"text-align: right;\">\n",
       "      <th></th>\n",
       "      <th>A</th>\n",
       "      <th>B</th>\n",
       "      <th>C</th>\n",
       "      <th>D</th>\n",
       "    </tr>\n",
       "  </thead>\n",
       "  <tbody>\n",
       "    <tr>\n",
       "      <th>2018-01-31</th>\n",
       "      <td>0.441227</td>\n",
       "      <td>-0.330870</td>\n",
       "      <td>2.430771</td>\n",
       "      <td>-0.252092</td>\n",
       "    </tr>\n",
       "    <tr>\n",
       "      <th>2018-02-28</th>\n",
       "      <td>0.109610</td>\n",
       "      <td>1.582481</td>\n",
       "      <td>-0.909232</td>\n",
       "      <td>-0.591637</td>\n",
       "    </tr>\n",
       "    <tr>\n",
       "      <th>2018-03-31</th>\n",
       "      <td>0.187603</td>\n",
       "      <td>-0.329870</td>\n",
       "      <td>-1.192765</td>\n",
       "      <td>-0.204877</td>\n",
       "    </tr>\n",
       "    <tr>\n",
       "      <th>2018-04-30</th>\n",
       "      <td>-0.358829</td>\n",
       "      <td>0.603472</td>\n",
       "      <td>-1.664789</td>\n",
       "      <td>-0.700179</td>\n",
       "    </tr>\n",
       "    <tr>\n",
       "      <th>2018-05-31</th>\n",
       "      <td>1.151391</td>\n",
       "      <td>1.857331</td>\n",
       "      <td>-1.511180</td>\n",
       "      <td>0.644848</td>\n",
       "    </tr>\n",
       "    <tr>\n",
       "      <th>2018-06-30</th>\n",
       "      <td>-0.980608</td>\n",
       "      <td>-0.856853</td>\n",
       "      <td>-0.871879</td>\n",
       "      <td>-0.422508</td>\n",
       "    </tr>\n",
       "    <tr>\n",
       "      <th>2018-07-31</th>\n",
       "      <td>0.996440</td>\n",
       "      <td>0.712421</td>\n",
       "      <td>0.059144</td>\n",
       "      <td>-0.363311</td>\n",
       "    </tr>\n",
       "    <tr>\n",
       "      <th>2018-08-31</th>\n",
       "      <td>0.003289</td>\n",
       "      <td>-0.105930</td>\n",
       "      <td>0.793053</td>\n",
       "      <td>-0.631572</td>\n",
       "    </tr>\n",
       "    <tr>\n",
       "      <th>2018-09-30</th>\n",
       "      <td>-0.006195</td>\n",
       "      <td>-0.101068</td>\n",
       "      <td>-0.052308</td>\n",
       "      <td>0.249218</td>\n",
       "    </tr>\n",
       "    <tr>\n",
       "      <th>2018-10-31</th>\n",
       "      <td>0.197660</td>\n",
       "      <td>1.334849</td>\n",
       "      <td>-0.086876</td>\n",
       "      <td>1.561532</td>\n",
       "    </tr>\n",
       "    <tr>\n",
       "      <th>2018-11-30</th>\n",
       "      <td>-0.305853</td>\n",
       "      <td>-0.477731</td>\n",
       "      <td>0.100738</td>\n",
       "      <td>0.355438</td>\n",
       "    </tr>\n",
       "    <tr>\n",
       "      <th>2018-12-31</th>\n",
       "      <td>0.269612</td>\n",
       "      <td>1.291963</td>\n",
       "      <td>1.139343</td>\n",
       "      <td>0.494440</td>\n",
       "    </tr>\n",
       "  </tbody>\n",
       "</table>\n",
       "</div>"
      ],
      "text/plain": [
       "                   A         B         C         D\n",
       "2018-01-31  0.441227 -0.330870  2.430771 -0.252092\n",
       "2018-02-28  0.109610  1.582481 -0.909232 -0.591637\n",
       "2018-03-31  0.187603 -0.329870 -1.192765 -0.204877\n",
       "2018-04-30 -0.358829  0.603472 -1.664789 -0.700179\n",
       "2018-05-31  1.151391  1.857331 -1.511180  0.644848\n",
       "2018-06-30 -0.980608 -0.856853 -0.871879 -0.422508\n",
       "2018-07-31  0.996440  0.712421  0.059144 -0.363311\n",
       "2018-08-31  0.003289 -0.105930  0.793053 -0.631572\n",
       "2018-09-30 -0.006195 -0.101068 -0.052308  0.249218\n",
       "2018-10-31  0.197660  1.334849 -0.086876  1.561532\n",
       "2018-11-30 -0.305853 -0.477731  0.100738  0.355438\n",
       "2018-12-31  0.269612  1.291963  1.139343  0.494440"
      ]
     },
     "execution_count": 42,
     "metadata": {},
     "output_type": "execute_result"
    }
   ],
   "source": [
    "np.random.seed(5)\n",
    "df=pd.DataFrame(np.random.randn(12,4),index=dates,\n",
    "                 columns=list('ABCD'))\n",
    "df"
   ]
  },
  {
   "cell_type": "code",
   "execution_count": 43,
   "metadata": {},
   "outputs": [
    {
     "data": {
      "text/html": [
       "<div>\n",
       "<style scoped>\n",
       "    .dataframe tbody tr th:only-of-type {\n",
       "        vertical-align: middle;\n",
       "    }\n",
       "\n",
       "    .dataframe tbody tr th {\n",
       "        vertical-align: top;\n",
       "    }\n",
       "\n",
       "    .dataframe thead th {\n",
       "        text-align: right;\n",
       "    }\n",
       "</style>\n",
       "<table border=\"1\" class=\"dataframe\">\n",
       "  <thead>\n",
       "    <tr style=\"text-align: right;\">\n",
       "      <th></th>\n",
       "      <th>A</th>\n",
       "      <th>B</th>\n",
       "      <th>C</th>\n",
       "      <th>D</th>\n",
       "    </tr>\n",
       "  </thead>\n",
       "  <tbody>\n",
       "    <tr>\n",
       "      <th>2018-01-31</th>\n",
       "      <td>0.441227</td>\n",
       "      <td>-0.330870</td>\n",
       "      <td>2.430771</td>\n",
       "      <td>-0.252092</td>\n",
       "    </tr>\n",
       "    <tr>\n",
       "      <th>2018-02-28</th>\n",
       "      <td>0.109610</td>\n",
       "      <td>1.582481</td>\n",
       "      <td>-0.909232</td>\n",
       "      <td>-0.591637</td>\n",
       "    </tr>\n",
       "    <tr>\n",
       "      <th>2018-03-31</th>\n",
       "      <td>0.187603</td>\n",
       "      <td>-0.329870</td>\n",
       "      <td>-1.192765</td>\n",
       "      <td>-0.204877</td>\n",
       "    </tr>\n",
       "    <tr>\n",
       "      <th>2018-04-30</th>\n",
       "      <td>-0.358829</td>\n",
       "      <td>0.603472</td>\n",
       "      <td>-1.664789</td>\n",
       "      <td>-0.700179</td>\n",
       "    </tr>\n",
       "    <tr>\n",
       "      <th>2018-05-31</th>\n",
       "      <td>1.151391</td>\n",
       "      <td>1.857331</td>\n",
       "      <td>-1.511180</td>\n",
       "      <td>0.644848</td>\n",
       "    </tr>\n",
       "  </tbody>\n",
       "</table>\n",
       "</div>"
      ],
      "text/plain": [
       "                   A         B         C         D\n",
       "2018-01-31  0.441227 -0.330870  2.430771 -0.252092\n",
       "2018-02-28  0.109610  1.582481 -0.909232 -0.591637\n",
       "2018-03-31  0.187603 -0.329870 -1.192765 -0.204877\n",
       "2018-04-30 -0.358829  0.603472 -1.664789 -0.700179\n",
       "2018-05-31  1.151391  1.857331 -1.511180  0.644848"
      ]
     },
     "execution_count": 43,
     "metadata": {},
     "output_type": "execute_result"
    }
   ],
   "source": [
    "#查看数据头n行 ,默认n=5\n",
    "df.head()"
   ]
  },
  {
   "cell_type": "code",
   "execution_count": 44,
   "metadata": {},
   "outputs": [
    {
     "data": {
      "text/html": [
       "<div>\n",
       "<style scoped>\n",
       "    .dataframe tbody tr th:only-of-type {\n",
       "        vertical-align: middle;\n",
       "    }\n",
       "\n",
       "    .dataframe tbody tr th {\n",
       "        vertical-align: top;\n",
       "    }\n",
       "\n",
       "    .dataframe thead th {\n",
       "        text-align: right;\n",
       "    }\n",
       "</style>\n",
       "<table border=\"1\" class=\"dataframe\">\n",
       "  <thead>\n",
       "    <tr style=\"text-align: right;\">\n",
       "      <th></th>\n",
       "      <th>A</th>\n",
       "      <th>B</th>\n",
       "      <th>C</th>\n",
       "      <th>D</th>\n",
       "    </tr>\n",
       "  </thead>\n",
       "  <tbody>\n",
       "    <tr>\n",
       "      <th>2018-10-31</th>\n",
       "      <td>0.197660</td>\n",
       "      <td>1.334849</td>\n",
       "      <td>-0.086876</td>\n",
       "      <td>1.561532</td>\n",
       "    </tr>\n",
       "    <tr>\n",
       "      <th>2018-11-30</th>\n",
       "      <td>-0.305853</td>\n",
       "      <td>-0.477731</td>\n",
       "      <td>0.100738</td>\n",
       "      <td>0.355438</td>\n",
       "    </tr>\n",
       "    <tr>\n",
       "      <th>2018-12-31</th>\n",
       "      <td>0.269612</td>\n",
       "      <td>1.291963</td>\n",
       "      <td>1.139343</td>\n",
       "      <td>0.494440</td>\n",
       "    </tr>\n",
       "  </tbody>\n",
       "</table>\n",
       "</div>"
      ],
      "text/plain": [
       "                   A         B         C         D\n",
       "2018-10-31  0.197660  1.334849 -0.086876  1.561532\n",
       "2018-11-30 -0.305853 -0.477731  0.100738  0.355438\n",
       "2018-12-31  0.269612  1.291963  1.139343  0.494440"
      ]
     },
     "execution_count": 44,
     "metadata": {},
     "output_type": "execute_result"
    }
   ],
   "source": [
    "#查看数据最后3行\n",
    "df.tail(3)"
   ]
  },
  {
   "cell_type": "code",
   "execution_count": 45,
   "metadata": {},
   "outputs": [
    {
     "name": "stdout",
     "output_type": "stream",
     "text": [
      "DatetimeIndex(['2018-01-31', '2018-02-28', '2018-03-31', '2018-04-30',\n",
      "               '2018-05-31', '2018-06-30', '2018-07-31', '2018-08-31',\n",
      "               '2018-09-30', '2018-10-31', '2018-11-30', '2018-12-31'],\n",
      "              dtype='datetime64[ns]', freq='M')\n"
     ]
    }
   ],
   "source": [
    "#查看数据的index(索引）,columns （列名）和数据\n",
    "print(df.index)"
   ]
  },
  {
   "cell_type": "code",
   "execution_count": 46,
   "metadata": {},
   "outputs": [
    {
     "name": "stdout",
     "output_type": "stream",
     "text": [
      "Index(['A', 'B', 'C', 'D'], dtype='object')\n"
     ]
    }
   ],
   "source": [
    "print(df.columns)"
   ]
  },
  {
   "cell_type": "code",
   "execution_count": 47,
   "metadata": {},
   "outputs": [
    {
     "name": "stdout",
     "output_type": "stream",
     "text": [
      "[[ 0.44122749 -0.33087015  2.43077119 -0.25209213]\n",
      " [ 0.10960984  1.58248112 -0.9092324  -0.59163666]\n",
      " [ 0.18760323 -0.32986996 -1.19276461 -0.20487651]\n",
      " [-0.35882895  0.6034716  -1.66478853 -0.70017904]\n",
      " [ 1.15139101  1.85733101 -1.51117956  0.64484751]\n",
      " [-0.98060789 -0.85685315 -0.87187918 -0.42250793]\n",
      " [ 0.99643983  0.71242127  0.05914424 -0.36331088]\n",
      " [ 0.00328884 -0.10593044  0.79305332 -0.63157163]\n",
      " [-0.00619491 -0.10106761 -0.05230815  0.24921766]\n",
      " [ 0.19766009  1.33484857 -0.08687561  1.56153229]\n",
      " [-0.30585302 -0.47773142  0.10073819  0.35543847]\n",
      " [ 0.26961241  1.29196338  1.13934298  0.4944404 ]]\n"
     ]
    }
   ],
   "source": [
    "print(df.values)"
   ]
  },
  {
   "cell_type": "code",
   "execution_count": 48,
   "metadata": {},
   "outputs": [],
   "source": [
    "#数据转置\n",
    "# df.T"
   ]
  },
  {
   "cell_type": "code",
   "execution_count": 49,
   "metadata": {},
   "outputs": [
    {
     "data": {
      "text/html": [
       "<div>\n",
       "<style scoped>\n",
       "    .dataframe tbody tr th:only-of-type {\n",
       "        vertical-align: middle;\n",
       "    }\n",
       "\n",
       "    .dataframe tbody tr th {\n",
       "        vertical-align: top;\n",
       "    }\n",
       "\n",
       "    .dataframe thead th {\n",
       "        text-align: right;\n",
       "    }\n",
       "</style>\n",
       "<table border=\"1\" class=\"dataframe\">\n",
       "  <thead>\n",
       "    <tr style=\"text-align: right;\">\n",
       "      <th></th>\n",
       "      <th>D</th>\n",
       "      <th>C</th>\n",
       "      <th>B</th>\n",
       "      <th>A</th>\n",
       "    </tr>\n",
       "  </thead>\n",
       "  <tbody>\n",
       "    <tr>\n",
       "      <th>2018-01-31</th>\n",
       "      <td>-0.252092</td>\n",
       "      <td>2.430771</td>\n",
       "      <td>-0.330870</td>\n",
       "      <td>0.441227</td>\n",
       "    </tr>\n",
       "    <tr>\n",
       "      <th>2018-02-28</th>\n",
       "      <td>-0.591637</td>\n",
       "      <td>-0.909232</td>\n",
       "      <td>1.582481</td>\n",
       "      <td>0.109610</td>\n",
       "    </tr>\n",
       "    <tr>\n",
       "      <th>2018-03-31</th>\n",
       "      <td>-0.204877</td>\n",
       "      <td>-1.192765</td>\n",
       "      <td>-0.329870</td>\n",
       "      <td>0.187603</td>\n",
       "    </tr>\n",
       "    <tr>\n",
       "      <th>2018-04-30</th>\n",
       "      <td>-0.700179</td>\n",
       "      <td>-1.664789</td>\n",
       "      <td>0.603472</td>\n",
       "      <td>-0.358829</td>\n",
       "    </tr>\n",
       "    <tr>\n",
       "      <th>2018-05-31</th>\n",
       "      <td>0.644848</td>\n",
       "      <td>-1.511180</td>\n",
       "      <td>1.857331</td>\n",
       "      <td>1.151391</td>\n",
       "    </tr>\n",
       "    <tr>\n",
       "      <th>2018-06-30</th>\n",
       "      <td>-0.422508</td>\n",
       "      <td>-0.871879</td>\n",
       "      <td>-0.856853</td>\n",
       "      <td>-0.980608</td>\n",
       "    </tr>\n",
       "    <tr>\n",
       "      <th>2018-07-31</th>\n",
       "      <td>-0.363311</td>\n",
       "      <td>0.059144</td>\n",
       "      <td>0.712421</td>\n",
       "      <td>0.996440</td>\n",
       "    </tr>\n",
       "    <tr>\n",
       "      <th>2018-08-31</th>\n",
       "      <td>-0.631572</td>\n",
       "      <td>0.793053</td>\n",
       "      <td>-0.105930</td>\n",
       "      <td>0.003289</td>\n",
       "    </tr>\n",
       "    <tr>\n",
       "      <th>2018-09-30</th>\n",
       "      <td>0.249218</td>\n",
       "      <td>-0.052308</td>\n",
       "      <td>-0.101068</td>\n",
       "      <td>-0.006195</td>\n",
       "    </tr>\n",
       "    <tr>\n",
       "      <th>2018-10-31</th>\n",
       "      <td>1.561532</td>\n",
       "      <td>-0.086876</td>\n",
       "      <td>1.334849</td>\n",
       "      <td>0.197660</td>\n",
       "    </tr>\n",
       "    <tr>\n",
       "      <th>2018-11-30</th>\n",
       "      <td>0.355438</td>\n",
       "      <td>0.100738</td>\n",
       "      <td>-0.477731</td>\n",
       "      <td>-0.305853</td>\n",
       "    </tr>\n",
       "    <tr>\n",
       "      <th>2018-12-31</th>\n",
       "      <td>0.494440</td>\n",
       "      <td>1.139343</td>\n",
       "      <td>1.291963</td>\n",
       "      <td>0.269612</td>\n",
       "    </tr>\n",
       "  </tbody>\n",
       "</table>\n",
       "</div>"
      ],
      "text/plain": [
       "                   D         C         B         A\n",
       "2018-01-31 -0.252092  2.430771 -0.330870  0.441227\n",
       "2018-02-28 -0.591637 -0.909232  1.582481  0.109610\n",
       "2018-03-31 -0.204877 -1.192765 -0.329870  0.187603\n",
       "2018-04-30 -0.700179 -1.664789  0.603472 -0.358829\n",
       "2018-05-31  0.644848 -1.511180  1.857331  1.151391\n",
       "2018-06-30 -0.422508 -0.871879 -0.856853 -0.980608\n",
       "2018-07-31 -0.363311  0.059144  0.712421  0.996440\n",
       "2018-08-31 -0.631572  0.793053 -0.105930  0.003289\n",
       "2018-09-30  0.249218 -0.052308 -0.101068 -0.006195\n",
       "2018-10-31  1.561532 -0.086876  1.334849  0.197660\n",
       "2018-11-30  0.355438  0.100738 -0.477731 -0.305853\n",
       "2018-12-31  0.494440  1.139343  1.291963  0.269612"
      ]
     },
     "execution_count": 49,
     "metadata": {},
     "output_type": "execute_result"
    }
   ],
   "source": [
    "#根据索引排序数据排序：（按行axis=0或列axis=1）\n",
    "df.sort_index(axis=1,ascending=False)"
   ]
  },
  {
   "cell_type": "code",
   "execution_count": 50,
   "metadata": {},
   "outputs": [
    {
     "data": {
      "text/html": [
       "<div>\n",
       "<style scoped>\n",
       "    .dataframe tbody tr th:only-of-type {\n",
       "        vertical-align: middle;\n",
       "    }\n",
       "\n",
       "    .dataframe tbody tr th {\n",
       "        vertical-align: top;\n",
       "    }\n",
       "\n",
       "    .dataframe thead th {\n",
       "        text-align: right;\n",
       "    }\n",
       "</style>\n",
       "<table border=\"1\" class=\"dataframe\">\n",
       "  <thead>\n",
       "    <tr style=\"text-align: right;\">\n",
       "      <th></th>\n",
       "      <th>A</th>\n",
       "      <th>B</th>\n",
       "      <th>C</th>\n",
       "      <th>D</th>\n",
       "    </tr>\n",
       "  </thead>\n",
       "  <tbody>\n",
       "    <tr>\n",
       "      <th>2018-06-30</th>\n",
       "      <td>-0.980608</td>\n",
       "      <td>-0.856853</td>\n",
       "      <td>-0.871879</td>\n",
       "      <td>-0.422508</td>\n",
       "    </tr>\n",
       "    <tr>\n",
       "      <th>2018-04-30</th>\n",
       "      <td>-0.358829</td>\n",
       "      <td>0.603472</td>\n",
       "      <td>-1.664789</td>\n",
       "      <td>-0.700179</td>\n",
       "    </tr>\n",
       "    <tr>\n",
       "      <th>2018-11-30</th>\n",
       "      <td>-0.305853</td>\n",
       "      <td>-0.477731</td>\n",
       "      <td>0.100738</td>\n",
       "      <td>0.355438</td>\n",
       "    </tr>\n",
       "    <tr>\n",
       "      <th>2018-09-30</th>\n",
       "      <td>-0.006195</td>\n",
       "      <td>-0.101068</td>\n",
       "      <td>-0.052308</td>\n",
       "      <td>0.249218</td>\n",
       "    </tr>\n",
       "    <tr>\n",
       "      <th>2018-08-31</th>\n",
       "      <td>0.003289</td>\n",
       "      <td>-0.105930</td>\n",
       "      <td>0.793053</td>\n",
       "      <td>-0.631572</td>\n",
       "    </tr>\n",
       "    <tr>\n",
       "      <th>2018-02-28</th>\n",
       "      <td>0.109610</td>\n",
       "      <td>1.582481</td>\n",
       "      <td>-0.909232</td>\n",
       "      <td>-0.591637</td>\n",
       "    </tr>\n",
       "    <tr>\n",
       "      <th>2018-03-31</th>\n",
       "      <td>0.187603</td>\n",
       "      <td>-0.329870</td>\n",
       "      <td>-1.192765</td>\n",
       "      <td>-0.204877</td>\n",
       "    </tr>\n",
       "    <tr>\n",
       "      <th>2018-10-31</th>\n",
       "      <td>0.197660</td>\n",
       "      <td>1.334849</td>\n",
       "      <td>-0.086876</td>\n",
       "      <td>1.561532</td>\n",
       "    </tr>\n",
       "    <tr>\n",
       "      <th>2018-12-31</th>\n",
       "      <td>0.269612</td>\n",
       "      <td>1.291963</td>\n",
       "      <td>1.139343</td>\n",
       "      <td>0.494440</td>\n",
       "    </tr>\n",
       "    <tr>\n",
       "      <th>2018-01-31</th>\n",
       "      <td>0.441227</td>\n",
       "      <td>-0.330870</td>\n",
       "      <td>2.430771</td>\n",
       "      <td>-0.252092</td>\n",
       "    </tr>\n",
       "    <tr>\n",
       "      <th>2018-07-31</th>\n",
       "      <td>0.996440</td>\n",
       "      <td>0.712421</td>\n",
       "      <td>0.059144</td>\n",
       "      <td>-0.363311</td>\n",
       "    </tr>\n",
       "    <tr>\n",
       "      <th>2018-05-31</th>\n",
       "      <td>1.151391</td>\n",
       "      <td>1.857331</td>\n",
       "      <td>-1.511180</td>\n",
       "      <td>0.644848</td>\n",
       "    </tr>\n",
       "  </tbody>\n",
       "</table>\n",
       "</div>"
      ],
      "text/plain": [
       "                   A         B         C         D\n",
       "2018-06-30 -0.980608 -0.856853 -0.871879 -0.422508\n",
       "2018-04-30 -0.358829  0.603472 -1.664789 -0.700179\n",
       "2018-11-30 -0.305853 -0.477731  0.100738  0.355438\n",
       "2018-09-30 -0.006195 -0.101068 -0.052308  0.249218\n",
       "2018-08-31  0.003289 -0.105930  0.793053 -0.631572\n",
       "2018-02-28  0.109610  1.582481 -0.909232 -0.591637\n",
       "2018-03-31  0.187603 -0.329870 -1.192765 -0.204877\n",
       "2018-10-31  0.197660  1.334849 -0.086876  1.561532\n",
       "2018-12-31  0.269612  1.291963  1.139343  0.494440\n",
       "2018-01-31  0.441227 -0.330870  2.430771 -0.252092\n",
       "2018-07-31  0.996440  0.712421  0.059144 -0.363311\n",
       "2018-05-31  1.151391  1.857331 -1.511180  0.644848"
      ]
     },
     "execution_count": 50,
     "metadata": {},
     "output_type": "execute_result"
    }
   ],
   "source": [
    "#按某列的值排序\n",
    "df.sort_values('A')  #按A列的值从小到大排序"
   ]
  },
  {
   "cell_type": "code",
   "execution_count": 51,
   "metadata": {},
   "outputs": [
    {
     "data": {
      "text/plain": [
       "A    0.441227\n",
       "B   -0.330870\n",
       "C    2.430771\n",
       "D   -0.252092\n",
       "Name: 2018-01-31 00:00:00, dtype: float64"
      ]
     },
     "execution_count": 51,
     "metadata": {},
     "output_type": "execute_result"
    }
   ],
   "source": [
    "#数据选取loc和iloc\n",
    "df.loc[dates[0]]"
   ]
  },
  {
   "cell_type": "code",
   "execution_count": 52,
   "metadata": {},
   "outputs": [
    {
     "data": {
      "text/html": [
       "<div>\n",
       "<style scoped>\n",
       "    .dataframe tbody tr th:only-of-type {\n",
       "        vertical-align: middle;\n",
       "    }\n",
       "\n",
       "    .dataframe tbody tr th {\n",
       "        vertical-align: top;\n",
       "    }\n",
       "\n",
       "    .dataframe thead th {\n",
       "        text-align: right;\n",
       "    }\n",
       "</style>\n",
       "<table border=\"1\" class=\"dataframe\">\n",
       "  <thead>\n",
       "    <tr style=\"text-align: right;\">\n",
       "      <th></th>\n",
       "      <th>A</th>\n",
       "      <th>C</th>\n",
       "    </tr>\n",
       "  </thead>\n",
       "  <tbody>\n",
       "    <tr>\n",
       "      <th>2018-01-31</th>\n",
       "      <td>0.441227</td>\n",
       "      <td>2.430771</td>\n",
       "    </tr>\n",
       "    <tr>\n",
       "      <th>2018-02-28</th>\n",
       "      <td>0.109610</td>\n",
       "      <td>-0.909232</td>\n",
       "    </tr>\n",
       "    <tr>\n",
       "      <th>2018-03-31</th>\n",
       "      <td>0.187603</td>\n",
       "      <td>-1.192765</td>\n",
       "    </tr>\n",
       "    <tr>\n",
       "      <th>2018-04-30</th>\n",
       "      <td>-0.358829</td>\n",
       "      <td>-1.664789</td>\n",
       "    </tr>\n",
       "  </tbody>\n",
       "</table>\n",
       "</div>"
      ],
      "text/plain": [
       "                   A         C\n",
       "2018-01-31  0.441227  2.430771\n",
       "2018-02-28  0.109610 -0.909232\n",
       "2018-03-31  0.187603 -1.192765\n",
       "2018-04-30 -0.358829 -1.664789"
      ]
     },
     "execution_count": 52,
     "metadata": {},
     "output_type": "execute_result"
    }
   ],
   "source": [
    "df.loc['20180131':'20180430',['A','C']]  #根据标签取数"
   ]
  },
  {
   "cell_type": "code",
   "execution_count": 53,
   "metadata": {},
   "outputs": [
    {
     "data": {
      "text/html": [
       "<div>\n",
       "<style scoped>\n",
       "    .dataframe tbody tr th:only-of-type {\n",
       "        vertical-align: middle;\n",
       "    }\n",
       "\n",
       "    .dataframe tbody tr th {\n",
       "        vertical-align: top;\n",
       "    }\n",
       "\n",
       "    .dataframe thead th {\n",
       "        text-align: right;\n",
       "    }\n",
       "</style>\n",
       "<table border=\"1\" class=\"dataframe\">\n",
       "  <thead>\n",
       "    <tr style=\"text-align: right;\">\n",
       "      <th></th>\n",
       "      <th>B</th>\n",
       "      <th>C</th>\n",
       "      <th>D</th>\n",
       "    </tr>\n",
       "  </thead>\n",
       "  <tbody>\n",
       "    <tr>\n",
       "      <th>2018-02-28</th>\n",
       "      <td>1.582481</td>\n",
       "      <td>-0.909232</td>\n",
       "      <td>-0.591637</td>\n",
       "    </tr>\n",
       "    <tr>\n",
       "      <th>2018-03-31</th>\n",
       "      <td>-0.329870</td>\n",
       "      <td>-1.192765</td>\n",
       "      <td>-0.204877</td>\n",
       "    </tr>\n",
       "  </tbody>\n",
       "</table>\n",
       "</div>"
      ],
      "text/plain": [
       "                   B         C         D\n",
       "2018-02-28  1.582481 -0.909232 -0.591637\n",
       "2018-03-31 -0.329870 -1.192765 -0.204877"
      ]
     },
     "execution_count": 53,
     "metadata": {},
     "output_type": "execute_result"
    }
   ],
   "source": [
    "df.iloc[1:3,1:4]  #根据所在位置取数，注意从0开始数"
   ]
  },
  {
   "cell_type": "code",
   "execution_count": 54,
   "metadata": {},
   "outputs": [
    {
     "data": {
      "text/html": [
       "<div>\n",
       "<style scoped>\n",
       "    .dataframe tbody tr th:only-of-type {\n",
       "        vertical-align: middle;\n",
       "    }\n",
       "\n",
       "    .dataframe tbody tr th {\n",
       "        vertical-align: top;\n",
       "    }\n",
       "\n",
       "    .dataframe thead th {\n",
       "        text-align: right;\n",
       "    }\n",
       "</style>\n",
       "<table border=\"1\" class=\"dataframe\">\n",
       "  <thead>\n",
       "    <tr style=\"text-align: right;\">\n",
       "      <th></th>\n",
       "      <th>A</th>\n",
       "      <th>D</th>\n",
       "    </tr>\n",
       "  </thead>\n",
       "  <tbody>\n",
       "    <tr>\n",
       "      <th>2018-02-28</th>\n",
       "      <td>0.109610</td>\n",
       "      <td>-0.591637</td>\n",
       "    </tr>\n",
       "    <tr>\n",
       "      <th>2018-04-30</th>\n",
       "      <td>-0.358829</td>\n",
       "      <td>-0.700179</td>\n",
       "    </tr>\n",
       "    <tr>\n",
       "      <th>2018-06-30</th>\n",
       "      <td>-0.980608</td>\n",
       "      <td>-0.422508</td>\n",
       "    </tr>\n",
       "  </tbody>\n",
       "</table>\n",
       "</div>"
      ],
      "text/plain": [
       "                   A         D\n",
       "2018-02-28  0.109610 -0.591637\n",
       "2018-04-30 -0.358829 -0.700179\n",
       "2018-06-30 -0.980608 -0.422508"
      ]
     },
     "execution_count": 54,
     "metadata": {},
     "output_type": "execute_result"
    }
   ],
   "source": [
    "df.iloc[[1,3,5],[0,3]]  #根据特定行和列取数"
   ]
  },
  {
   "cell_type": "code",
   "execution_count": 55,
   "metadata": {},
   "outputs": [
    {
     "data": {
      "text/html": [
       "<div>\n",
       "<style scoped>\n",
       "    .dataframe tbody tr th:only-of-type {\n",
       "        vertical-align: middle;\n",
       "    }\n",
       "\n",
       "    .dataframe tbody tr th {\n",
       "        vertical-align: top;\n",
       "    }\n",
       "\n",
       "    .dataframe thead th {\n",
       "        text-align: right;\n",
       "    }\n",
       "</style>\n",
       "<table border=\"1\" class=\"dataframe\">\n",
       "  <thead>\n",
       "    <tr style=\"text-align: right;\">\n",
       "      <th></th>\n",
       "      <th>A</th>\n",
       "      <th>B</th>\n",
       "      <th>C</th>\n",
       "      <th>D</th>\n",
       "    </tr>\n",
       "  </thead>\n",
       "  <tbody>\n",
       "    <tr>\n",
       "      <th>2018-01-31</th>\n",
       "      <td>0.441227</td>\n",
       "      <td>-0.330870</td>\n",
       "      <td>2.430771</td>\n",
       "      <td>-0.252092</td>\n",
       "    </tr>\n",
       "    <tr>\n",
       "      <th>2018-02-28</th>\n",
       "      <td>0.109610</td>\n",
       "      <td>1.582481</td>\n",
       "      <td>-0.909232</td>\n",
       "      <td>-0.591637</td>\n",
       "    </tr>\n",
       "    <tr>\n",
       "      <th>2018-03-31</th>\n",
       "      <td>0.187603</td>\n",
       "      <td>-0.329870</td>\n",
       "      <td>-1.192765</td>\n",
       "      <td>-0.204877</td>\n",
       "    </tr>\n",
       "    <tr>\n",
       "      <th>2018-05-31</th>\n",
       "      <td>1.151391</td>\n",
       "      <td>1.857331</td>\n",
       "      <td>-1.511180</td>\n",
       "      <td>0.644848</td>\n",
       "    </tr>\n",
       "    <tr>\n",
       "      <th>2018-07-31</th>\n",
       "      <td>0.996440</td>\n",
       "      <td>0.712421</td>\n",
       "      <td>0.059144</td>\n",
       "      <td>-0.363311</td>\n",
       "    </tr>\n",
       "    <tr>\n",
       "      <th>2018-08-31</th>\n",
       "      <td>0.003289</td>\n",
       "      <td>-0.105930</td>\n",
       "      <td>0.793053</td>\n",
       "      <td>-0.631572</td>\n",
       "    </tr>\n",
       "    <tr>\n",
       "      <th>2018-10-31</th>\n",
       "      <td>0.197660</td>\n",
       "      <td>1.334849</td>\n",
       "      <td>-0.086876</td>\n",
       "      <td>1.561532</td>\n",
       "    </tr>\n",
       "    <tr>\n",
       "      <th>2018-12-31</th>\n",
       "      <td>0.269612</td>\n",
       "      <td>1.291963</td>\n",
       "      <td>1.139343</td>\n",
       "      <td>0.494440</td>\n",
       "    </tr>\n",
       "  </tbody>\n",
       "</table>\n",
       "</div>"
      ],
      "text/plain": [
       "                   A         B         C         D\n",
       "2018-01-31  0.441227 -0.330870  2.430771 -0.252092\n",
       "2018-02-28  0.109610  1.582481 -0.909232 -0.591637\n",
       "2018-03-31  0.187603 -0.329870 -1.192765 -0.204877\n",
       "2018-05-31  1.151391  1.857331 -1.511180  0.644848\n",
       "2018-07-31  0.996440  0.712421  0.059144 -0.363311\n",
       "2018-08-31  0.003289 -0.105930  0.793053 -0.631572\n",
       "2018-10-31  0.197660  1.334849 -0.086876  1.561532\n",
       "2018-12-31  0.269612  1.291963  1.139343  0.494440"
      ]
     },
     "execution_count": 55,
     "metadata": {},
     "output_type": "execute_result"
    }
   ],
   "source": [
    "df[df.A>0] #相当于取出A列大于0时的数据列表"
   ]
  },
  {
   "cell_type": "code",
   "execution_count": 56,
   "metadata": {},
   "outputs": [
    {
     "data": {
      "text/html": [
       "<div>\n",
       "<style scoped>\n",
       "    .dataframe tbody tr th:only-of-type {\n",
       "        vertical-align: middle;\n",
       "    }\n",
       "\n",
       "    .dataframe tbody tr th {\n",
       "        vertical-align: top;\n",
       "    }\n",
       "\n",
       "    .dataframe thead th {\n",
       "        text-align: right;\n",
       "    }\n",
       "</style>\n",
       "<table border=\"1\" class=\"dataframe\">\n",
       "  <thead>\n",
       "    <tr style=\"text-align: right;\">\n",
       "      <th></th>\n",
       "      <th>A</th>\n",
       "      <th>B</th>\n",
       "      <th>C</th>\n",
       "      <th>D</th>\n",
       "    </tr>\n",
       "  </thead>\n",
       "  <tbody>\n",
       "    <tr>\n",
       "      <th>2018-01-31</th>\n",
       "      <td>0.441227</td>\n",
       "      <td>NaN</td>\n",
       "      <td>2.430771</td>\n",
       "      <td>NaN</td>\n",
       "    </tr>\n",
       "    <tr>\n",
       "      <th>2018-02-28</th>\n",
       "      <td>0.109610</td>\n",
       "      <td>1.582481</td>\n",
       "      <td>NaN</td>\n",
       "      <td>NaN</td>\n",
       "    </tr>\n",
       "    <tr>\n",
       "      <th>2018-03-31</th>\n",
       "      <td>0.187603</td>\n",
       "      <td>NaN</td>\n",
       "      <td>NaN</td>\n",
       "      <td>NaN</td>\n",
       "    </tr>\n",
       "    <tr>\n",
       "      <th>2018-04-30</th>\n",
       "      <td>NaN</td>\n",
       "      <td>0.603472</td>\n",
       "      <td>NaN</td>\n",
       "      <td>NaN</td>\n",
       "    </tr>\n",
       "    <tr>\n",
       "      <th>2018-05-31</th>\n",
       "      <td>1.151391</td>\n",
       "      <td>1.857331</td>\n",
       "      <td>NaN</td>\n",
       "      <td>0.644848</td>\n",
       "    </tr>\n",
       "    <tr>\n",
       "      <th>2018-06-30</th>\n",
       "      <td>NaN</td>\n",
       "      <td>NaN</td>\n",
       "      <td>NaN</td>\n",
       "      <td>NaN</td>\n",
       "    </tr>\n",
       "    <tr>\n",
       "      <th>2018-07-31</th>\n",
       "      <td>0.996440</td>\n",
       "      <td>0.712421</td>\n",
       "      <td>0.059144</td>\n",
       "      <td>NaN</td>\n",
       "    </tr>\n",
       "    <tr>\n",
       "      <th>2018-08-31</th>\n",
       "      <td>0.003289</td>\n",
       "      <td>NaN</td>\n",
       "      <td>0.793053</td>\n",
       "      <td>NaN</td>\n",
       "    </tr>\n",
       "    <tr>\n",
       "      <th>2018-09-30</th>\n",
       "      <td>NaN</td>\n",
       "      <td>NaN</td>\n",
       "      <td>NaN</td>\n",
       "      <td>0.249218</td>\n",
       "    </tr>\n",
       "    <tr>\n",
       "      <th>2018-10-31</th>\n",
       "      <td>0.197660</td>\n",
       "      <td>1.334849</td>\n",
       "      <td>NaN</td>\n",
       "      <td>1.561532</td>\n",
       "    </tr>\n",
       "    <tr>\n",
       "      <th>2018-11-30</th>\n",
       "      <td>NaN</td>\n",
       "      <td>NaN</td>\n",
       "      <td>0.100738</td>\n",
       "      <td>0.355438</td>\n",
       "    </tr>\n",
       "    <tr>\n",
       "      <th>2018-12-31</th>\n",
       "      <td>0.269612</td>\n",
       "      <td>1.291963</td>\n",
       "      <td>1.139343</td>\n",
       "      <td>0.494440</td>\n",
       "    </tr>\n",
       "  </tbody>\n",
       "</table>\n",
       "</div>"
      ],
      "text/plain": [
       "                   A         B         C         D\n",
       "2018-01-31  0.441227       NaN  2.430771       NaN\n",
       "2018-02-28  0.109610  1.582481       NaN       NaN\n",
       "2018-03-31  0.187603       NaN       NaN       NaN\n",
       "2018-04-30       NaN  0.603472       NaN       NaN\n",
       "2018-05-31  1.151391  1.857331       NaN  0.644848\n",
       "2018-06-30       NaN       NaN       NaN       NaN\n",
       "2018-07-31  0.996440  0.712421  0.059144       NaN\n",
       "2018-08-31  0.003289       NaN  0.793053       NaN\n",
       "2018-09-30       NaN       NaN       NaN  0.249218\n",
       "2018-10-31  0.197660  1.334849       NaN  1.561532\n",
       "2018-11-30       NaN       NaN  0.100738  0.355438\n",
       "2018-12-31  0.269612  1.291963  1.139343  0.494440"
      ]
     },
     "execution_count": 56,
     "metadata": {},
     "output_type": "execute_result"
    }
   ],
   "source": [
    "df[df>0]  #显示值大于0的数，其余使用NaN代替"
   ]
  },
  {
   "cell_type": "code",
   "execution_count": 57,
   "metadata": {},
   "outputs": [
    {
     "data": {
      "text/html": [
       "<div>\n",
       "<style scoped>\n",
       "    .dataframe tbody tr th:only-of-type {\n",
       "        vertical-align: middle;\n",
       "    }\n",
       "\n",
       "    .dataframe tbody tr th {\n",
       "        vertical-align: top;\n",
       "    }\n",
       "\n",
       "    .dataframe thead th {\n",
       "        text-align: right;\n",
       "    }\n",
       "</style>\n",
       "<table border=\"1\" class=\"dataframe\">\n",
       "  <thead>\n",
       "    <tr style=\"text-align: right;\">\n",
       "      <th></th>\n",
       "      <th>A</th>\n",
       "      <th>B</th>\n",
       "      <th>C</th>\n",
       "      <th>D</th>\n",
       "      <th>E</th>\n",
       "    </tr>\n",
       "  </thead>\n",
       "  <tbody>\n",
       "    <tr>\n",
       "      <th>2018-01-31</th>\n",
       "      <td>0.441227</td>\n",
       "      <td>-0.330870</td>\n",
       "      <td>2.430771</td>\n",
       "      <td>-0.252092</td>\n",
       "      <td>0</td>\n",
       "    </tr>\n",
       "    <tr>\n",
       "      <th>2018-02-28</th>\n",
       "      <td>0.109610</td>\n",
       "      <td>1.582481</td>\n",
       "      <td>-0.909232</td>\n",
       "      <td>-0.591637</td>\n",
       "      <td>1</td>\n",
       "    </tr>\n",
       "    <tr>\n",
       "      <th>2018-03-31</th>\n",
       "      <td>0.187603</td>\n",
       "      <td>-0.329870</td>\n",
       "      <td>-1.192765</td>\n",
       "      <td>-0.204877</td>\n",
       "      <td>2</td>\n",
       "    </tr>\n",
       "    <tr>\n",
       "      <th>2018-04-30</th>\n",
       "      <td>-0.358829</td>\n",
       "      <td>0.603472</td>\n",
       "      <td>-1.664789</td>\n",
       "      <td>-0.700179</td>\n",
       "      <td>3</td>\n",
       "    </tr>\n",
       "    <tr>\n",
       "      <th>2018-05-31</th>\n",
       "      <td>1.151391</td>\n",
       "      <td>1.857331</td>\n",
       "      <td>-1.511180</td>\n",
       "      <td>0.644848</td>\n",
       "      <td>4</td>\n",
       "    </tr>\n",
       "    <tr>\n",
       "      <th>2018-06-30</th>\n",
       "      <td>-0.980608</td>\n",
       "      <td>-0.856853</td>\n",
       "      <td>-0.871879</td>\n",
       "      <td>-0.422508</td>\n",
       "      <td>5</td>\n",
       "    </tr>\n",
       "    <tr>\n",
       "      <th>2018-07-31</th>\n",
       "      <td>0.996440</td>\n",
       "      <td>0.712421</td>\n",
       "      <td>0.059144</td>\n",
       "      <td>-0.363311</td>\n",
       "      <td>6</td>\n",
       "    </tr>\n",
       "    <tr>\n",
       "      <th>2018-08-31</th>\n",
       "      <td>0.003289</td>\n",
       "      <td>-0.105930</td>\n",
       "      <td>0.793053</td>\n",
       "      <td>-0.631572</td>\n",
       "      <td>7</td>\n",
       "    </tr>\n",
       "    <tr>\n",
       "      <th>2018-09-30</th>\n",
       "      <td>-0.006195</td>\n",
       "      <td>-0.101068</td>\n",
       "      <td>-0.052308</td>\n",
       "      <td>0.249218</td>\n",
       "      <td>8</td>\n",
       "    </tr>\n",
       "    <tr>\n",
       "      <th>2018-10-31</th>\n",
       "      <td>0.197660</td>\n",
       "      <td>1.334849</td>\n",
       "      <td>-0.086876</td>\n",
       "      <td>1.561532</td>\n",
       "      <td>9</td>\n",
       "    </tr>\n",
       "    <tr>\n",
       "      <th>2018-11-30</th>\n",
       "      <td>-0.305853</td>\n",
       "      <td>-0.477731</td>\n",
       "      <td>0.100738</td>\n",
       "      <td>0.355438</td>\n",
       "      <td>10</td>\n",
       "    </tr>\n",
       "    <tr>\n",
       "      <th>2018-12-31</th>\n",
       "      <td>0.269612</td>\n",
       "      <td>1.291963</td>\n",
       "      <td>1.139343</td>\n",
       "      <td>0.494440</td>\n",
       "      <td>11</td>\n",
       "    </tr>\n",
       "  </tbody>\n",
       "</table>\n",
       "</div>"
      ],
      "text/plain": [
       "                   A         B         C         D   E\n",
       "2018-01-31  0.441227 -0.330870  2.430771 -0.252092   0\n",
       "2018-02-28  0.109610  1.582481 -0.909232 -0.591637   1\n",
       "2018-03-31  0.187603 -0.329870 -1.192765 -0.204877   2\n",
       "2018-04-30 -0.358829  0.603472 -1.664789 -0.700179   3\n",
       "2018-05-31  1.151391  1.857331 -1.511180  0.644848   4\n",
       "2018-06-30 -0.980608 -0.856853 -0.871879 -0.422508   5\n",
       "2018-07-31  0.996440  0.712421  0.059144 -0.363311   6\n",
       "2018-08-31  0.003289 -0.105930  0.793053 -0.631572   7\n",
       "2018-09-30 -0.006195 -0.101068 -0.052308  0.249218   8\n",
       "2018-10-31  0.197660  1.334849 -0.086876  1.561532   9\n",
       "2018-11-30 -0.305853 -0.477731  0.100738  0.355438  10\n",
       "2018-12-31  0.269612  1.291963  1.139343  0.494440  11"
      ]
     },
     "execution_count": 57,
     "metadata": {},
     "output_type": "execute_result"
    }
   ],
   "source": [
    "#数据筛选isin()\n",
    "df2=df.copy() #复制df数据\n",
    "df2['E']=np.arange(12)\n",
    "df2"
   ]
  },
  {
   "cell_type": "code",
   "execution_count": 58,
   "metadata": {},
   "outputs": [
    {
     "data": {
      "text/html": [
       "<div>\n",
       "<style scoped>\n",
       "    .dataframe tbody tr th:only-of-type {\n",
       "        vertical-align: middle;\n",
       "    }\n",
       "\n",
       "    .dataframe tbody tr th {\n",
       "        vertical-align: top;\n",
       "    }\n",
       "\n",
       "    .dataframe thead th {\n",
       "        text-align: right;\n",
       "    }\n",
       "</style>\n",
       "<table border=\"1\" class=\"dataframe\">\n",
       "  <thead>\n",
       "    <tr style=\"text-align: right;\">\n",
       "      <th></th>\n",
       "      <th>A</th>\n",
       "      <th>B</th>\n",
       "      <th>C</th>\n",
       "      <th>D</th>\n",
       "      <th>E</th>\n",
       "    </tr>\n",
       "  </thead>\n",
       "  <tbody>\n",
       "    <tr>\n",
       "      <th>2018-01-31</th>\n",
       "      <td>0.441227</td>\n",
       "      <td>-0.330870</td>\n",
       "      <td>2.430771</td>\n",
       "      <td>-0.252092</td>\n",
       "      <td>0</td>\n",
       "    </tr>\n",
       "    <tr>\n",
       "      <th>2018-03-31</th>\n",
       "      <td>0.187603</td>\n",
       "      <td>-0.329870</td>\n",
       "      <td>-1.192765</td>\n",
       "      <td>-0.204877</td>\n",
       "      <td>2</td>\n",
       "    </tr>\n",
       "    <tr>\n",
       "      <th>2018-05-31</th>\n",
       "      <td>1.151391</td>\n",
       "      <td>1.857331</td>\n",
       "      <td>-1.511180</td>\n",
       "      <td>0.644848</td>\n",
       "      <td>4</td>\n",
       "    </tr>\n",
       "  </tbody>\n",
       "</table>\n",
       "</div>"
      ],
      "text/plain": [
       "                   A         B         C         D  E\n",
       "2018-01-31  0.441227 -0.330870  2.430771 -0.252092  0\n",
       "2018-03-31  0.187603 -0.329870 -1.192765 -0.204877  2\n",
       "2018-05-31  1.151391  1.857331 -1.511180  0.644848  4"
      ]
     },
     "execution_count": 58,
     "metadata": {},
     "output_type": "execute_result"
    }
   ],
   "source": [
    "df2[df2['E'].isin([0,2,4])]"
   ]
  },
  {
   "cell_type": "code",
   "execution_count": 59,
   "metadata": {},
   "outputs": [
    {
     "data": {
      "text/html": [
       "<div>\n",
       "<style scoped>\n",
       "    .dataframe tbody tr th:only-of-type {\n",
       "        vertical-align: middle;\n",
       "    }\n",
       "\n",
       "    .dataframe tbody tr th {\n",
       "        vertical-align: top;\n",
       "    }\n",
       "\n",
       "    .dataframe thead th {\n",
       "        text-align: right;\n",
       "    }\n",
       "</style>\n",
       "<table border=\"1\" class=\"dataframe\">\n",
       "  <thead>\n",
       "    <tr style=\"text-align: right;\">\n",
       "      <th></th>\n",
       "      <th>A</th>\n",
       "      <th>B</th>\n",
       "      <th>C</th>\n",
       "      <th>D</th>\n",
       "    </tr>\n",
       "  </thead>\n",
       "  <tbody>\n",
       "    <tr>\n",
       "      <th>2018-10-01</th>\n",
       "      <td>-0.311784</td>\n",
       "      <td>0.729004</td>\n",
       "      <td>0.217821</td>\n",
       "      <td>-0.899092</td>\n",
       "    </tr>\n",
       "    <tr>\n",
       "      <th>2018-10-02</th>\n",
       "      <td>-2.486781</td>\n",
       "      <td>0.913252</td>\n",
       "      <td>1.127064</td>\n",
       "      <td>-1.514093</td>\n",
       "    </tr>\n",
       "    <tr>\n",
       "      <th>2018-10-03</th>\n",
       "      <td>1.639291</td>\n",
       "      <td>-0.429894</td>\n",
       "      <td>2.631281</td>\n",
       "      <td>0.601822</td>\n",
       "    </tr>\n",
       "    <tr>\n",
       "      <th>2018-10-04</th>\n",
       "      <td>-0.335882</td>\n",
       "      <td>1.237738</td>\n",
       "      <td>0.111128</td>\n",
       "      <td>0.129151</td>\n",
       "    </tr>\n",
       "    <tr>\n",
       "      <th>2018-10-05</th>\n",
       "      <td>0.076128</td>\n",
       "      <td>-0.155128</td>\n",
       "      <td>0.634225</td>\n",
       "      <td>0.810655</td>\n",
       "    </tr>\n",
       "  </tbody>\n",
       "</table>\n",
       "</div>"
      ],
      "text/plain": [
       "                   A         B         C         D\n",
       "2018-10-01 -0.311784  0.729004  0.217821 -0.899092\n",
       "2018-10-02 -2.486781  0.913252  1.127064 -1.514093\n",
       "2018-10-03  1.639291 -0.429894  2.631281  0.601822\n",
       "2018-10-04 -0.335882  1.237738  0.111128  0.129151\n",
       "2018-10-05  0.076128 -0.155128  0.634225  0.810655"
      ]
     },
     "execution_count": 59,
     "metadata": {},
     "output_type": "execute_result"
    }
   ],
   "source": [
    "#缺失值用NaN显示\n",
    "\n",
    "date3=pd.date_range('20181001',periods=5)\n",
    "np.random.seed(6)\n",
    "data=np.random.randn(5,4)\n",
    "df3=pd.DataFrame(data,index=date3,columns=list('ABCD'))\n",
    "df3"
   ]
  },
  {
   "cell_type": "code",
   "execution_count": 60,
   "metadata": {},
   "outputs": [
    {
     "data": {
      "text/html": [
       "<div>\n",
       "<style scoped>\n",
       "    .dataframe tbody tr th:only-of-type {\n",
       "        vertical-align: middle;\n",
       "    }\n",
       "\n",
       "    .dataframe tbody tr th {\n",
       "        vertical-align: top;\n",
       "    }\n",
       "\n",
       "    .dataframe thead th {\n",
       "        text-align: right;\n",
       "    }\n",
       "</style>\n",
       "<table border=\"1\" class=\"dataframe\">\n",
       "  <thead>\n",
       "    <tr style=\"text-align: right;\">\n",
       "      <th></th>\n",
       "      <th>A</th>\n",
       "      <th>B</th>\n",
       "      <th>C</th>\n",
       "      <th>D</th>\n",
       "    </tr>\n",
       "  </thead>\n",
       "  <tbody>\n",
       "    <tr>\n",
       "      <th>2018-10-01</th>\n",
       "      <td>-0.311784</td>\n",
       "      <td>0.729004</td>\n",
       "      <td>0.217821</td>\n",
       "      <td>-0.899092</td>\n",
       "    </tr>\n",
       "    <tr>\n",
       "      <th>2018-10-02</th>\n",
       "      <td>-2.486781</td>\n",
       "      <td>0.913252</td>\n",
       "      <td>NaN</td>\n",
       "      <td>-1.514093</td>\n",
       "    </tr>\n",
       "    <tr>\n",
       "      <th>2018-10-03</th>\n",
       "      <td>1.639291</td>\n",
       "      <td>-0.429894</td>\n",
       "      <td>2.631281</td>\n",
       "      <td>0.601822</td>\n",
       "    </tr>\n",
       "    <tr>\n",
       "      <th>2018-10-04</th>\n",
       "      <td>-0.335882</td>\n",
       "      <td>1.237738</td>\n",
       "      <td>0.111128</td>\n",
       "      <td>NaN</td>\n",
       "    </tr>\n",
       "    <tr>\n",
       "      <th>2018-10-05</th>\n",
       "      <td>0.076128</td>\n",
       "      <td>-0.155128</td>\n",
       "      <td>0.634225</td>\n",
       "      <td>0.810655</td>\n",
       "    </tr>\n",
       "  </tbody>\n",
       "</table>\n",
       "</div>"
      ],
      "text/plain": [
       "                   A         B         C         D\n",
       "2018-10-01 -0.311784  0.729004  0.217821 -0.899092\n",
       "2018-10-02 -2.486781  0.913252       NaN -1.514093\n",
       "2018-10-03  1.639291 -0.429894  2.631281  0.601822\n",
       "2018-10-04 -0.335882  1.237738  0.111128       NaN\n",
       "2018-10-05  0.076128 -0.155128  0.634225  0.810655"
      ]
     },
     "execution_count": 60,
     "metadata": {},
     "output_type": "execute_result"
    }
   ],
   "source": [
    "df3.iat[3,3]=np.NaN  #令第3行第3列的数为缺失值（0.129151）\n",
    "df3.iat[1,2]=np.NaN  #令第1行第2列的数为缺失值（1.127064）\n",
    "df3"
   ]
  },
  {
   "cell_type": "code",
   "execution_count": 61,
   "metadata": {},
   "outputs": [
    {
     "data": {
      "text/html": [
       "<div>\n",
       "<style scoped>\n",
       "    .dataframe tbody tr th:only-of-type {\n",
       "        vertical-align: middle;\n",
       "    }\n",
       "\n",
       "    .dataframe tbody tr th {\n",
       "        vertical-align: top;\n",
       "    }\n",
       "\n",
       "    .dataframe thead th {\n",
       "        text-align: right;\n",
       "    }\n",
       "</style>\n",
       "<table border=\"1\" class=\"dataframe\">\n",
       "  <thead>\n",
       "    <tr style=\"text-align: right;\">\n",
       "      <th></th>\n",
       "      <th>A</th>\n",
       "      <th>B</th>\n",
       "      <th>C</th>\n",
       "      <th>D</th>\n",
       "    </tr>\n",
       "  </thead>\n",
       "  <tbody>\n",
       "    <tr>\n",
       "      <th>2018-10-01</th>\n",
       "      <td>-0.311784</td>\n",
       "      <td>0.729004</td>\n",
       "      <td>0.217821</td>\n",
       "      <td>-0.899092</td>\n",
       "    </tr>\n",
       "    <tr>\n",
       "      <th>2018-10-03</th>\n",
       "      <td>1.639291</td>\n",
       "      <td>-0.429894</td>\n",
       "      <td>2.631281</td>\n",
       "      <td>0.601822</td>\n",
       "    </tr>\n",
       "    <tr>\n",
       "      <th>2018-10-05</th>\n",
       "      <td>0.076128</td>\n",
       "      <td>-0.155128</td>\n",
       "      <td>0.634225</td>\n",
       "      <td>0.810655</td>\n",
       "    </tr>\n",
       "  </tbody>\n",
       "</table>\n",
       "</div>"
      ],
      "text/plain": [
       "                   A         B         C         D\n",
       "2018-10-01 -0.311784  0.729004  0.217821 -0.899092\n",
       "2018-10-03  1.639291 -0.429894  2.631281  0.601822\n",
       "2018-10-05  0.076128 -0.155128  0.634225  0.810655"
      ]
     },
     "execution_count": 61,
     "metadata": {},
     "output_type": "execute_result"
    }
   ],
   "source": [
    "#丢弃存在缺失值的行\n",
    "#设定how=all只会删除那些全是NaN的行：\n",
    "df3.dropna(how='any')"
   ]
  },
  {
   "cell_type": "code",
   "execution_count": 62,
   "metadata": {},
   "outputs": [
    {
     "data": {
      "text/html": [
       "<div>\n",
       "<style scoped>\n",
       "    .dataframe tbody tr th:only-of-type {\n",
       "        vertical-align: middle;\n",
       "    }\n",
       "\n",
       "    .dataframe tbody tr th {\n",
       "        vertical-align: top;\n",
       "    }\n",
       "\n",
       "    .dataframe thead th {\n",
       "        text-align: right;\n",
       "    }\n",
       "</style>\n",
       "<table border=\"1\" class=\"dataframe\">\n",
       "  <thead>\n",
       "    <tr style=\"text-align: right;\">\n",
       "      <th></th>\n",
       "      <th>A</th>\n",
       "      <th>B</th>\n",
       "    </tr>\n",
       "  </thead>\n",
       "  <tbody>\n",
       "    <tr>\n",
       "      <th>2018-10-01</th>\n",
       "      <td>-0.311784</td>\n",
       "      <td>0.729004</td>\n",
       "    </tr>\n",
       "    <tr>\n",
       "      <th>2018-10-02</th>\n",
       "      <td>-2.486781</td>\n",
       "      <td>0.913252</td>\n",
       "    </tr>\n",
       "    <tr>\n",
       "      <th>2018-10-03</th>\n",
       "      <td>1.639291</td>\n",
       "      <td>-0.429894</td>\n",
       "    </tr>\n",
       "    <tr>\n",
       "      <th>2018-10-04</th>\n",
       "      <td>-0.335882</td>\n",
       "      <td>1.237738</td>\n",
       "    </tr>\n",
       "    <tr>\n",
       "      <th>2018-10-05</th>\n",
       "      <td>0.076128</td>\n",
       "      <td>-0.155128</td>\n",
       "    </tr>\n",
       "  </tbody>\n",
       "</table>\n",
       "</div>"
      ],
      "text/plain": [
       "                   A         B\n",
       "2018-10-01 -0.311784  0.729004\n",
       "2018-10-02 -2.486781  0.913252\n",
       "2018-10-03  1.639291 -0.429894\n",
       "2018-10-04 -0.335882  1.237738\n",
       "2018-10-05  0.076128 -0.155128"
      ]
     },
     "execution_count": 62,
     "metadata": {},
     "output_type": "execute_result"
    }
   ],
   "source": [
    "#删除列也一样，设置axis=1\n",
    "df3.dropna(how='any',axis=1)"
   ]
  },
  {
   "cell_type": "code",
   "execution_count": 63,
   "metadata": {},
   "outputs": [
    {
     "data": {
      "text/html": [
       "<div>\n",
       "<style scoped>\n",
       "    .dataframe tbody tr th:only-of-type {\n",
       "        vertical-align: middle;\n",
       "    }\n",
       "\n",
       "    .dataframe tbody tr th {\n",
       "        vertical-align: top;\n",
       "    }\n",
       "\n",
       "    .dataframe thead th {\n",
       "        text-align: right;\n",
       "    }\n",
       "</style>\n",
       "<table border=\"1\" class=\"dataframe\">\n",
       "  <thead>\n",
       "    <tr style=\"text-align: right;\">\n",
       "      <th></th>\n",
       "      <th>A</th>\n",
       "      <th>B</th>\n",
       "      <th>C</th>\n",
       "      <th>D</th>\n",
       "    </tr>\n",
       "  </thead>\n",
       "  <tbody>\n",
       "    <tr>\n",
       "      <th>2018-10-01</th>\n",
       "      <td>-0.311784</td>\n",
       "      <td>0.729004</td>\n",
       "      <td>0.217821</td>\n",
       "      <td>-0.899092</td>\n",
       "    </tr>\n",
       "    <tr>\n",
       "      <th>2018-10-05</th>\n",
       "      <td>0.076128</td>\n",
       "      <td>-0.155128</td>\n",
       "      <td>0.634225</td>\n",
       "      <td>0.810655</td>\n",
       "    </tr>\n",
       "  </tbody>\n",
       "</table>\n",
       "</div>"
      ],
      "text/plain": [
       "                   A         B         C         D\n",
       "2018-10-01 -0.311784  0.729004  0.217821 -0.899092\n",
       "2018-10-05  0.076128 -0.155128  0.634225  0.810655"
      ]
     },
     "execution_count": 63,
     "metadata": {},
     "output_type": "execute_result"
    }
   ],
   "source": [
    "#thresh参数,如thresh=4,一行中至少有4个非NaN值，否则删除\n",
    "df3.iloc[2,2]=np.NaN\n",
    "df3.dropna(thresh=4)"
   ]
  },
  {
   "cell_type": "code",
   "execution_count": 64,
   "metadata": {},
   "outputs": [
    {
     "data": {
      "text/html": [
       "<div>\n",
       "<style scoped>\n",
       "    .dataframe tbody tr th:only-of-type {\n",
       "        vertical-align: middle;\n",
       "    }\n",
       "\n",
       "    .dataframe tbody tr th {\n",
       "        vertical-align: top;\n",
       "    }\n",
       "\n",
       "    .dataframe thead th {\n",
       "        text-align: right;\n",
       "    }\n",
       "</style>\n",
       "<table border=\"1\" class=\"dataframe\">\n",
       "  <thead>\n",
       "    <tr style=\"text-align: right;\">\n",
       "      <th></th>\n",
       "      <th>A</th>\n",
       "      <th>B</th>\n",
       "      <th>C</th>\n",
       "      <th>D</th>\n",
       "    </tr>\n",
       "  </thead>\n",
       "  <tbody>\n",
       "    <tr>\n",
       "      <th>2018-10-01</th>\n",
       "      <td>-0.311784</td>\n",
       "      <td>0.729004</td>\n",
       "      <td>0.217821</td>\n",
       "      <td>-0.899092</td>\n",
       "    </tr>\n",
       "    <tr>\n",
       "      <th>2018-10-02</th>\n",
       "      <td>-2.486781</td>\n",
       "      <td>0.913252</td>\n",
       "      <td>0.217821</td>\n",
       "      <td>-1.514093</td>\n",
       "    </tr>\n",
       "    <tr>\n",
       "      <th>2018-10-03</th>\n",
       "      <td>1.639291</td>\n",
       "      <td>-0.429894</td>\n",
       "      <td>0.217821</td>\n",
       "      <td>0.601822</td>\n",
       "    </tr>\n",
       "    <tr>\n",
       "      <th>2018-10-04</th>\n",
       "      <td>-0.335882</td>\n",
       "      <td>1.237738</td>\n",
       "      <td>0.111128</td>\n",
       "      <td>0.601822</td>\n",
       "    </tr>\n",
       "    <tr>\n",
       "      <th>2018-10-05</th>\n",
       "      <td>0.076128</td>\n",
       "      <td>-0.155128</td>\n",
       "      <td>0.634225</td>\n",
       "      <td>0.810655</td>\n",
       "    </tr>\n",
       "  </tbody>\n",
       "</table>\n",
       "</div>"
      ],
      "text/plain": [
       "                   A         B         C         D\n",
       "2018-10-01 -0.311784  0.729004  0.217821 -0.899092\n",
       "2018-10-02 -2.486781  0.913252  0.217821 -1.514093\n",
       "2018-10-03  1.639291 -0.429894  0.217821  0.601822\n",
       "2018-10-04 -0.335882  1.237738  0.111128  0.601822\n",
       "2018-10-05  0.076128 -0.155128  0.634225  0.810655"
      ]
     },
     "execution_count": 64,
     "metadata": {},
     "output_type": "execute_result"
    }
   ],
   "source": [
    "#填充缺失值\n",
    "#fillna 还可以使用 method 参数\n",
    "#method 可以使用下面的方法\n",
    "#1 . pad/ffill：用前一个非缺失值去填充该缺失值\n",
    "#2 . backfill/bfill：用下一个非缺失值填充该缺失值\n",
    "df3.fillna(method='ffill')"
   ]
  },
  {
   "cell_type": "code",
   "execution_count": 65,
   "metadata": {},
   "outputs": [
    {
     "data": {
      "text/html": [
       "<div>\n",
       "<style scoped>\n",
       "    .dataframe tbody tr th:only-of-type {\n",
       "        vertical-align: middle;\n",
       "    }\n",
       "\n",
       "    .dataframe tbody tr th {\n",
       "        vertical-align: top;\n",
       "    }\n",
       "\n",
       "    .dataframe thead th {\n",
       "        text-align: right;\n",
       "    }\n",
       "</style>\n",
       "<table border=\"1\" class=\"dataframe\">\n",
       "  <thead>\n",
       "    <tr style=\"text-align: right;\">\n",
       "      <th></th>\n",
       "      <th>A</th>\n",
       "      <th>B</th>\n",
       "      <th>C</th>\n",
       "      <th>D</th>\n",
       "    </tr>\n",
       "  </thead>\n",
       "  <tbody>\n",
       "    <tr>\n",
       "      <th>2018-10-01</th>\n",
       "      <td>-0.311784</td>\n",
       "      <td>0.729004</td>\n",
       "      <td>0.217821</td>\n",
       "      <td>-0.899092</td>\n",
       "    </tr>\n",
       "    <tr>\n",
       "      <th>2018-10-02</th>\n",
       "      <td>-2.486781</td>\n",
       "      <td>0.913252</td>\n",
       "      <td>0.111128</td>\n",
       "      <td>-1.514093</td>\n",
       "    </tr>\n",
       "    <tr>\n",
       "      <th>2018-10-03</th>\n",
       "      <td>1.639291</td>\n",
       "      <td>-0.429894</td>\n",
       "      <td>0.111128</td>\n",
       "      <td>0.601822</td>\n",
       "    </tr>\n",
       "    <tr>\n",
       "      <th>2018-10-04</th>\n",
       "      <td>-0.335882</td>\n",
       "      <td>1.237738</td>\n",
       "      <td>0.111128</td>\n",
       "      <td>0.810655</td>\n",
       "    </tr>\n",
       "    <tr>\n",
       "      <th>2018-10-05</th>\n",
       "      <td>0.076128</td>\n",
       "      <td>-0.155128</td>\n",
       "      <td>0.634225</td>\n",
       "      <td>0.810655</td>\n",
       "    </tr>\n",
       "  </tbody>\n",
       "</table>\n",
       "</div>"
      ],
      "text/plain": [
       "                   A         B         C         D\n",
       "2018-10-01 -0.311784  0.729004  0.217821 -0.899092\n",
       "2018-10-02 -2.486781  0.913252  0.111128 -1.514093\n",
       "2018-10-03  1.639291 -0.429894  0.111128  0.601822\n",
       "2018-10-04 -0.335882  1.237738  0.111128  0.810655\n",
       "2018-10-05  0.076128 -0.155128  0.634225  0.810655"
      ]
     },
     "execution_count": 65,
     "metadata": {},
     "output_type": "execute_result"
    }
   ],
   "source": [
    "df3.fillna(method='bfill')"
   ]
  },
  {
   "cell_type": "code",
   "execution_count": 66,
   "metadata": {},
   "outputs": [
    {
     "data": {
      "text/html": [
       "<div>\n",
       "<style scoped>\n",
       "    .dataframe tbody tr th:only-of-type {\n",
       "        vertical-align: middle;\n",
       "    }\n",
       "\n",
       "    .dataframe tbody tr th {\n",
       "        vertical-align: top;\n",
       "    }\n",
       "\n",
       "    .dataframe thead th {\n",
       "        text-align: right;\n",
       "    }\n",
       "</style>\n",
       "<table border=\"1\" class=\"dataframe\">\n",
       "  <thead>\n",
       "    <tr style=\"text-align: right;\">\n",
       "      <th></th>\n",
       "      <th>A</th>\n",
       "      <th>B</th>\n",
       "      <th>C</th>\n",
       "      <th>D</th>\n",
       "    </tr>\n",
       "  </thead>\n",
       "  <tbody>\n",
       "    <tr>\n",
       "      <th>2018-10-01</th>\n",
       "      <td>-0.311784</td>\n",
       "      <td>0.729004</td>\n",
       "      <td>0.217821</td>\n",
       "      <td>-0.899092</td>\n",
       "    </tr>\n",
       "    <tr>\n",
       "      <th>2018-10-02</th>\n",
       "      <td>-2.486781</td>\n",
       "      <td>0.913252</td>\n",
       "      <td>NaN</td>\n",
       "      <td>-1.514093</td>\n",
       "    </tr>\n",
       "    <tr>\n",
       "      <th>2018-10-03</th>\n",
       "      <td>1.639291</td>\n",
       "      <td>-0.429894</td>\n",
       "      <td>NaN</td>\n",
       "      <td>0.601822</td>\n",
       "    </tr>\n",
       "    <tr>\n",
       "      <th>2018-10-04</th>\n",
       "      <td>-0.335882</td>\n",
       "      <td>1.237738</td>\n",
       "      <td>0.111128</td>\n",
       "      <td>NaN</td>\n",
       "    </tr>\n",
       "    <tr>\n",
       "      <th>2018-10-05</th>\n",
       "      <td>0.076128</td>\n",
       "      <td>-0.155128</td>\n",
       "      <td>0.634225</td>\n",
       "      <td>0.810655</td>\n",
       "    </tr>\n",
       "  </tbody>\n",
       "</table>\n",
       "</div>"
      ],
      "text/plain": [
       "                   A         B         C         D\n",
       "2018-10-01 -0.311784  0.729004  0.217821 -0.899092\n",
       "2018-10-02 -2.486781  0.913252       NaN -1.514093\n",
       "2018-10-03  1.639291 -0.429894       NaN  0.601822\n",
       "2018-10-04 -0.335882  1.237738  0.111128       NaN\n",
       "2018-10-05  0.076128 -0.155128  0.634225  0.810655"
      ]
     },
     "execution_count": 66,
     "metadata": {},
     "output_type": "execute_result"
    }
   ],
   "source": [
    "df3"
   ]
  },
  {
   "cell_type": "code",
   "execution_count": 67,
   "metadata": {},
   "outputs": [
    {
     "data": {
      "text/html": [
       "<div>\n",
       "<style scoped>\n",
       "    .dataframe tbody tr th:only-of-type {\n",
       "        vertical-align: middle;\n",
       "    }\n",
       "\n",
       "    .dataframe tbody tr th {\n",
       "        vertical-align: top;\n",
       "    }\n",
       "\n",
       "    .dataframe thead th {\n",
       "        text-align: right;\n",
       "    }\n",
       "</style>\n",
       "<table border=\"1\" class=\"dataframe\">\n",
       "  <thead>\n",
       "    <tr style=\"text-align: right;\">\n",
       "      <th></th>\n",
       "      <th>A</th>\n",
       "      <th>B</th>\n",
       "      <th>C</th>\n",
       "      <th>D</th>\n",
       "    </tr>\n",
       "  </thead>\n",
       "  <tbody>\n",
       "    <tr>\n",
       "      <th>2018-10-01</th>\n",
       "      <td>-0.311784</td>\n",
       "      <td>0.729004</td>\n",
       "      <td>0.217821</td>\n",
       "      <td>-0.899092</td>\n",
       "    </tr>\n",
       "    <tr>\n",
       "      <th>2018-10-02</th>\n",
       "      <td>-2.486781</td>\n",
       "      <td>0.913252</td>\n",
       "      <td>0.321058</td>\n",
       "      <td>-1.514093</td>\n",
       "    </tr>\n",
       "    <tr>\n",
       "      <th>2018-10-03</th>\n",
       "      <td>1.639291</td>\n",
       "      <td>-0.429894</td>\n",
       "      <td>0.321058</td>\n",
       "      <td>0.601822</td>\n",
       "    </tr>\n",
       "    <tr>\n",
       "      <th>2018-10-04</th>\n",
       "      <td>-0.335882</td>\n",
       "      <td>1.237738</td>\n",
       "      <td>0.111128</td>\n",
       "      <td>NaN</td>\n",
       "    </tr>\n",
       "    <tr>\n",
       "      <th>2018-10-05</th>\n",
       "      <td>0.076128</td>\n",
       "      <td>-0.155128</td>\n",
       "      <td>0.634225</td>\n",
       "      <td>0.810655</td>\n",
       "    </tr>\n",
       "  </tbody>\n",
       "</table>\n",
       "</div>"
      ],
      "text/plain": [
       "                   A         B         C         D\n",
       "2018-10-01 -0.311784  0.729004  0.217821 -0.899092\n",
       "2018-10-02 -2.486781  0.913252  0.321058 -1.514093\n",
       "2018-10-03  1.639291 -0.429894  0.321058  0.601822\n",
       "2018-10-04 -0.335882  1.237738  0.111128       NaN\n",
       "2018-10-05  0.076128 -0.155128  0.634225  0.810655"
      ]
     },
     "execution_count": 67,
     "metadata": {},
     "output_type": "execute_result"
    }
   ],
   "source": [
    "#使在改变DataFrame 和 Series 的操作时，会返回一个新的对象，\n",
    "#原对象不变，如果要改变原对象，可以添加参数 inplace = True用列均值填充\n",
    "#使用该列的均值填充\n",
    "df3['C'].fillna(df3['C'].mean(),inplace=True)\n",
    "df3"
   ]
  },
  {
   "cell_type": "code",
   "execution_count": 68,
   "metadata": {},
   "outputs": [
    {
     "data": {
      "text/html": [
       "<div>\n",
       "<style scoped>\n",
       "    .dataframe tbody tr th:only-of-type {\n",
       "        vertical-align: middle;\n",
       "    }\n",
       "\n",
       "    .dataframe tbody tr th {\n",
       "        vertical-align: top;\n",
       "    }\n",
       "\n",
       "    .dataframe thead th {\n",
       "        text-align: right;\n",
       "    }\n",
       "</style>\n",
       "<table border=\"1\" class=\"dataframe\">\n",
       "  <thead>\n",
       "    <tr style=\"text-align: right;\">\n",
       "      <th></th>\n",
       "      <th>A</th>\n",
       "      <th>B</th>\n",
       "      <th>C</th>\n",
       "      <th>D</th>\n",
       "    </tr>\n",
       "  </thead>\n",
       "  <tbody>\n",
       "    <tr>\n",
       "      <th>2018-10-01</th>\n",
       "      <td>1.690526</td>\n",
       "      <td>-0.465937</td>\n",
       "      <td>0.032820</td>\n",
       "      <td>0.407516</td>\n",
       "    </tr>\n",
       "    <tr>\n",
       "      <th>2018-10-02</th>\n",
       "      <td>-0.788923</td>\n",
       "      <td>0.002066</td>\n",
       "      <td>-0.000890</td>\n",
       "      <td>-1.754724</td>\n",
       "    </tr>\n",
       "    <tr>\n",
       "      <th>2018-10-03</th>\n",
       "      <td>1.017658</td>\n",
       "      <td>0.600499</td>\n",
       "      <td>-0.625429</td>\n",
       "      <td>-0.171548</td>\n",
       "    </tr>\n",
       "    <tr>\n",
       "      <th>2018-10-04</th>\n",
       "      <td>0.505299</td>\n",
       "      <td>-0.261356</td>\n",
       "      <td>-0.242749</td>\n",
       "      <td>-1.453241</td>\n",
       "    </tr>\n",
       "    <tr>\n",
       "      <th>2018-10-05</th>\n",
       "      <td>0.554580</td>\n",
       "      <td>0.123881</td>\n",
       "      <td>0.274460</td>\n",
       "      <td>-1.526525</td>\n",
       "    </tr>\n",
       "  </tbody>\n",
       "</table>\n",
       "</div>"
      ],
      "text/plain": [
       "                   A         B         C         D\n",
       "2018-10-01  1.690526 -0.465937  0.032820  0.407516\n",
       "2018-10-02 -0.788923  0.002066 -0.000890 -1.754724\n",
       "2018-10-03  1.017658  0.600499 -0.625429 -0.171548\n",
       "2018-10-04  0.505299 -0.261356 -0.242749 -1.453241\n",
       "2018-10-05  0.554580  0.123881  0.274460 -1.526525"
      ]
     },
     "execution_count": 68,
     "metadata": {},
     "output_type": "execute_result"
    }
   ],
   "source": [
    "#4、统计\n",
    "date4=pd.date_range('20181001',periods=5)\n",
    "np.random.seed(7)\n",
    "data4=np.random.randn(5,4)\n",
    "df4=pd.DataFrame(data4,index=date3,columns=list('ABCD'))\n",
    "df4"
   ]
  },
  {
   "cell_type": "code",
   "execution_count": 69,
   "metadata": {
    "scrolled": false
   },
   "outputs": [
    {
     "data": {
      "text/html": [
       "<div>\n",
       "<style scoped>\n",
       "    .dataframe tbody tr th:only-of-type {\n",
       "        vertical-align: middle;\n",
       "    }\n",
       "\n",
       "    .dataframe tbody tr th {\n",
       "        vertical-align: top;\n",
       "    }\n",
       "\n",
       "    .dataframe thead th {\n",
       "        text-align: right;\n",
       "    }\n",
       "</style>\n",
       "<table border=\"1\" class=\"dataframe\">\n",
       "  <thead>\n",
       "    <tr style=\"text-align: right;\">\n",
       "      <th></th>\n",
       "      <th>A</th>\n",
       "      <th>B</th>\n",
       "      <th>C</th>\n",
       "      <th>D</th>\n",
       "    </tr>\n",
       "  </thead>\n",
       "  <tbody>\n",
       "    <tr>\n",
       "      <th>count</th>\n",
       "      <td>5.000000</td>\n",
       "      <td>5.000000</td>\n",
       "      <td>5.000000</td>\n",
       "      <td>5.000000</td>\n",
       "    </tr>\n",
       "    <tr>\n",
       "      <th>mean</th>\n",
       "      <td>0.595828</td>\n",
       "      <td>-0.000170</td>\n",
       "      <td>-0.112358</td>\n",
       "      <td>-0.899704</td>\n",
       "    </tr>\n",
       "    <tr>\n",
       "      <th>std</th>\n",
       "      <td>0.908809</td>\n",
       "      <td>0.406618</td>\n",
       "      <td>0.340358</td>\n",
       "      <td>0.957784</td>\n",
       "    </tr>\n",
       "    <tr>\n",
       "      <th>min</th>\n",
       "      <td>-0.788923</td>\n",
       "      <td>-0.465937</td>\n",
       "      <td>-0.625429</td>\n",
       "      <td>-1.754724</td>\n",
       "    </tr>\n",
       "    <tr>\n",
       "      <th>25%</th>\n",
       "      <td>0.505299</td>\n",
       "      <td>-0.261356</td>\n",
       "      <td>-0.242749</td>\n",
       "      <td>-1.526525</td>\n",
       "    </tr>\n",
       "    <tr>\n",
       "      <th>50%</th>\n",
       "      <td>0.554580</td>\n",
       "      <td>0.002066</td>\n",
       "      <td>-0.000890</td>\n",
       "      <td>-1.453241</td>\n",
       "    </tr>\n",
       "    <tr>\n",
       "      <th>75%</th>\n",
       "      <td>1.017658</td>\n",
       "      <td>0.123881</td>\n",
       "      <td>0.032820</td>\n",
       "      <td>-0.171548</td>\n",
       "    </tr>\n",
       "    <tr>\n",
       "      <th>max</th>\n",
       "      <td>1.690526</td>\n",
       "      <td>0.600499</td>\n",
       "      <td>0.274460</td>\n",
       "      <td>0.407516</td>\n",
       "    </tr>\n",
       "  </tbody>\n",
       "</table>\n",
       "</div>"
      ],
      "text/plain": [
       "              A         B         C         D\n",
       "count  5.000000  5.000000  5.000000  5.000000\n",
       "mean   0.595828 -0.000170 -0.112358 -0.899704\n",
       "std    0.908809  0.406618  0.340358  0.957784\n",
       "min   -0.788923 -0.465937 -0.625429 -1.754724\n",
       "25%    0.505299 -0.261356 -0.242749 -1.526525\n",
       "50%    0.554580  0.002066 -0.000890 -1.453241\n",
       "75%    1.017658  0.123881  0.032820 -0.171548\n",
       "max    1.690526  0.600499  0.274460  0.407516"
      ]
     },
     "execution_count": 69,
     "metadata": {},
     "output_type": "execute_result"
    }
   ],
   "source": [
    "df4.describe()"
   ]
  },
  {
   "cell_type": "code",
   "execution_count": 70,
   "metadata": {},
   "outputs": [
    {
     "data": {
      "text/plain": [
       "A    0.595828\n",
       "B   -0.000170\n",
       "C   -0.112358\n",
       "D   -0.899704\n",
       "dtype: float64"
      ]
     },
     "execution_count": 70,
     "metadata": {},
     "output_type": "execute_result"
    }
   ],
   "source": [
    "df4.mean() #均值，默认按列axis=0"
   ]
  },
  {
   "cell_type": "code",
   "execution_count": 71,
   "metadata": {},
   "outputs": [
    {
     "data": {
      "text/plain": [
       "2018-10-01    0.416231\n",
       "2018-10-02   -0.635618\n",
       "2018-10-03    0.205295\n",
       "2018-10-04   -0.363012\n",
       "2018-10-05   -0.143401\n",
       "Freq: D, dtype: float64"
      ]
     },
     "execution_count": 71,
     "metadata": {},
     "output_type": "execute_result"
    }
   ],
   "source": [
    "df4.mean(axis=1)  #按行"
   ]
  },
  {
   "cell_type": "code",
   "execution_count": 72,
   "metadata": {},
   "outputs": [
    {
     "data": {
      "text/html": [
       "<div>\n",
       "<style scoped>\n",
       "    .dataframe tbody tr th:only-of-type {\n",
       "        vertical-align: middle;\n",
       "    }\n",
       "\n",
       "    .dataframe tbody tr th {\n",
       "        vertical-align: top;\n",
       "    }\n",
       "\n",
       "    .dataframe thead th {\n",
       "        text-align: right;\n",
       "    }\n",
       "</style>\n",
       "<table border=\"1\" class=\"dataframe\">\n",
       "  <thead>\n",
       "    <tr style=\"text-align: right;\">\n",
       "      <th></th>\n",
       "      <th>A</th>\n",
       "      <th>B</th>\n",
       "      <th>C</th>\n",
       "      <th>D</th>\n",
       "    </tr>\n",
       "  </thead>\n",
       "  <tbody>\n",
       "    <tr>\n",
       "      <th>2018-10-01</th>\n",
       "      <td>1.690526</td>\n",
       "      <td>-0.465937</td>\n",
       "      <td>0.032820</td>\n",
       "      <td>0.407516</td>\n",
       "    </tr>\n",
       "    <tr>\n",
       "      <th>2018-10-02</th>\n",
       "      <td>0.901603</td>\n",
       "      <td>-0.463872</td>\n",
       "      <td>0.031930</td>\n",
       "      <td>-1.347208</td>\n",
       "    </tr>\n",
       "    <tr>\n",
       "      <th>2018-10-03</th>\n",
       "      <td>1.919261</td>\n",
       "      <td>0.136627</td>\n",
       "      <td>-0.593499</td>\n",
       "      <td>-1.518756</td>\n",
       "    </tr>\n",
       "    <tr>\n",
       "      <th>2018-10-04</th>\n",
       "      <td>2.424560</td>\n",
       "      <td>-0.124730</td>\n",
       "      <td>-0.836248</td>\n",
       "      <td>-2.971998</td>\n",
       "    </tr>\n",
       "    <tr>\n",
       "      <th>2018-10-05</th>\n",
       "      <td>2.979140</td>\n",
       "      <td>-0.000849</td>\n",
       "      <td>-0.561788</td>\n",
       "      <td>-4.498522</td>\n",
       "    </tr>\n",
       "  </tbody>\n",
       "</table>\n",
       "</div>"
      ],
      "text/plain": [
       "                   A         B         C         D\n",
       "2018-10-01  1.690526 -0.465937  0.032820  0.407516\n",
       "2018-10-02  0.901603 -0.463872  0.031930 -1.347208\n",
       "2018-10-03  1.919261  0.136627 -0.593499 -1.518756\n",
       "2018-10-04  2.424560 -0.124730 -0.836248 -2.971998\n",
       "2018-10-05  2.979140 -0.000849 -0.561788 -4.498522"
      ]
     },
     "execution_count": 72,
     "metadata": {},
     "output_type": "execute_result"
    }
   ],
   "source": [
    "#对数据使用函数df.apply()\n",
    "df4.apply(np.cumsum) #np.cumsum()累加函数"
   ]
  },
  {
   "cell_type": "code",
   "execution_count": 73,
   "metadata": {},
   "outputs": [
    {
     "data": {
      "text/plain": [
       "A    2.479449\n",
       "B    1.066436\n",
       "C    0.899889\n",
       "D    2.162241\n",
       "dtype: float64"
      ]
     },
     "execution_count": 73,
     "metadata": {},
     "output_type": "execute_result"
    }
   ],
   "source": [
    "df4.apply(lambda x:x.max()-x.min()) #lambda自定义函数\n",
    "#相当于计算每列里最大值-最小值"
   ]
  },
  {
   "cell_type": "code",
   "execution_count": 74,
   "metadata": {},
   "outputs": [
    {
     "data": {
      "text/html": [
       "<div>\n",
       "<style scoped>\n",
       "    .dataframe tbody tr th:only-of-type {\n",
       "        vertical-align: middle;\n",
       "    }\n",
       "\n",
       "    .dataframe tbody tr th {\n",
       "        vertical-align: top;\n",
       "    }\n",
       "\n",
       "    .dataframe thead th {\n",
       "        text-align: right;\n",
       "    }\n",
       "</style>\n",
       "<table border=\"1\" class=\"dataframe\">\n",
       "  <thead>\n",
       "    <tr style=\"text-align: right;\">\n",
       "      <th></th>\n",
       "      <th>A</th>\n",
       "      <th>B</th>\n",
       "      <th>C</th>\n",
       "      <th>D</th>\n",
       "      <th>E</th>\n",
       "    </tr>\n",
       "  </thead>\n",
       "  <tbody>\n",
       "    <tr>\n",
       "      <th>2018-10-01</th>\n",
       "      <td>1.690526</td>\n",
       "      <td>-0.465937</td>\n",
       "      <td>0.032820</td>\n",
       "      <td>0.407516</td>\n",
       "      <td>a</td>\n",
       "    </tr>\n",
       "    <tr>\n",
       "      <th>2018-10-02</th>\n",
       "      <td>-0.788923</td>\n",
       "      <td>0.002066</td>\n",
       "      <td>-0.000890</td>\n",
       "      <td>-1.754724</td>\n",
       "      <td>a</td>\n",
       "    </tr>\n",
       "    <tr>\n",
       "      <th>2018-10-03</th>\n",
       "      <td>1.017658</td>\n",
       "      <td>0.600499</td>\n",
       "      <td>-0.625429</td>\n",
       "      <td>-0.171548</td>\n",
       "      <td>a</td>\n",
       "    </tr>\n",
       "    <tr>\n",
       "      <th>2018-10-04</th>\n",
       "      <td>0.505299</td>\n",
       "      <td>-0.261356</td>\n",
       "      <td>-0.242749</td>\n",
       "      <td>-1.453241</td>\n",
       "      <td>b</td>\n",
       "    </tr>\n",
       "    <tr>\n",
       "      <th>2018-10-05</th>\n",
       "      <td>0.554580</td>\n",
       "      <td>0.123881</td>\n",
       "      <td>0.274460</td>\n",
       "      <td>-1.526525</td>\n",
       "      <td>b</td>\n",
       "    </tr>\n",
       "  </tbody>\n",
       "</table>\n",
       "</div>"
      ],
      "text/plain": [
       "                   A         B         C         D  E\n",
       "2018-10-01  1.690526 -0.465937  0.032820  0.407516  a\n",
       "2018-10-02 -0.788923  0.002066 -0.000890 -1.754724  a\n",
       "2018-10-03  1.017658  0.600499 -0.625429 -0.171548  a\n",
       "2018-10-04  0.505299 -0.261356 -0.242749 -1.453241  b\n",
       "2018-10-05  0.554580  0.123881  0.274460 -1.526525  b"
      ]
     },
     "execution_count": 74,
     "metadata": {},
     "output_type": "execute_result"
    }
   ],
   "source": [
    "df4['E']=['a','a','a','b','b']\n",
    "df4"
   ]
  },
  {
   "cell_type": "code",
   "execution_count": 75,
   "metadata": {},
   "outputs": [
    {
     "data": {
      "text/plain": [
       "a    3\n",
       "b    2\n",
       "Name: E, dtype: int64"
      ]
     },
     "execution_count": 75,
     "metadata": {},
     "output_type": "execute_result"
    }
   ],
   "source": [
    "#计算某个值出现评率\n",
    "df4['E'].value_counts()"
   ]
  },
  {
   "cell_type": "code",
   "execution_count": 76,
   "metadata": {},
   "outputs": [
    {
     "name": "stdout",
     "output_type": "stream",
     "text": [
      "0    0\n",
      "1    1\n",
      "2    2\n",
      "3    3\n",
      "4    4\n",
      "dtype: int64\n",
      "0    5\n",
      "1    6\n",
      "2    7\n",
      "3    8\n",
      "4    9\n",
      "dtype: int64\n"
     ]
    }
   ],
   "source": [
    "#5、数据合并\n",
    "#Concat（）\n",
    "d1=pd.Series(range(5))\n",
    "print(d1)\n",
    "d2=pd.Series(range(5,10))\n",
    "print(d2)"
   ]
  },
  {
   "cell_type": "code",
   "execution_count": 77,
   "metadata": {},
   "outputs": [
    {
     "data": {
      "text/html": [
       "<div>\n",
       "<style scoped>\n",
       "    .dataframe tbody tr th:only-of-type {\n",
       "        vertical-align: middle;\n",
       "    }\n",
       "\n",
       "    .dataframe tbody tr th {\n",
       "        vertical-align: top;\n",
       "    }\n",
       "\n",
       "    .dataframe thead th {\n",
       "        text-align: right;\n",
       "    }\n",
       "</style>\n",
       "<table border=\"1\" class=\"dataframe\">\n",
       "  <thead>\n",
       "    <tr style=\"text-align: right;\">\n",
       "      <th></th>\n",
       "      <th>0</th>\n",
       "      <th>1</th>\n",
       "    </tr>\n",
       "  </thead>\n",
       "  <tbody>\n",
       "    <tr>\n",
       "      <th>0</th>\n",
       "      <td>0</td>\n",
       "      <td>5</td>\n",
       "    </tr>\n",
       "    <tr>\n",
       "      <th>1</th>\n",
       "      <td>1</td>\n",
       "      <td>6</td>\n",
       "    </tr>\n",
       "    <tr>\n",
       "      <th>2</th>\n",
       "      <td>2</td>\n",
       "      <td>7</td>\n",
       "    </tr>\n",
       "    <tr>\n",
       "      <th>3</th>\n",
       "      <td>3</td>\n",
       "      <td>8</td>\n",
       "    </tr>\n",
       "    <tr>\n",
       "      <th>4</th>\n",
       "      <td>4</td>\n",
       "      <td>9</td>\n",
       "    </tr>\n",
       "  </tbody>\n",
       "</table>\n",
       "</div>"
      ],
      "text/plain": [
       "   0  1\n",
       "0  0  5\n",
       "1  1  6\n",
       "2  2  7\n",
       "3  3  8\n",
       "4  4  9"
      ]
     },
     "execution_count": 77,
     "metadata": {},
     "output_type": "execute_result"
    }
   ],
   "source": [
    "pd.concat([d1,d2],axis=1) #默认是纵向合并即axis=0"
   ]
  },
  {
   "cell_type": "code",
   "execution_count": 78,
   "metadata": {},
   "outputs": [
    {
     "name": "stdout",
     "output_type": "stream",
     "text": [
      "          A         B         C\n",
      "0  1.650700  0.154336 -0.387140\n",
      "1  2.029072 -0.045386 -1.450679\n",
      "2 -0.405228 -2.288315  1.049397\n",
      "          D         E         F\n",
      "0 -0.416474 -0.742554  1.072470\n",
      "1 -1.651076  0.535429 -2.064415\n",
      "2 -0.662159 -1.204220  1.461976\n"
     ]
    },
    {
     "data": {
      "text/html": [
       "<div>\n",
       "<style scoped>\n",
       "    .dataframe tbody tr th:only-of-type {\n",
       "        vertical-align: middle;\n",
       "    }\n",
       "\n",
       "    .dataframe tbody tr th {\n",
       "        vertical-align: top;\n",
       "    }\n",
       "\n",
       "    .dataframe thead th {\n",
       "        text-align: right;\n",
       "    }\n",
       "</style>\n",
       "<table border=\"1\" class=\"dataframe\">\n",
       "  <thead>\n",
       "    <tr style=\"text-align: right;\">\n",
       "      <th></th>\n",
       "      <th>A</th>\n",
       "      <th>B</th>\n",
       "      <th>C</th>\n",
       "      <th>D</th>\n",
       "      <th>E</th>\n",
       "      <th>F</th>\n",
       "    </tr>\n",
       "  </thead>\n",
       "  <tbody>\n",
       "    <tr>\n",
       "      <th>0</th>\n",
       "      <td>1.650700</td>\n",
       "      <td>0.154336</td>\n",
       "      <td>-0.387140</td>\n",
       "      <td>-0.416474</td>\n",
       "      <td>-0.742554</td>\n",
       "      <td>1.072470</td>\n",
       "    </tr>\n",
       "    <tr>\n",
       "      <th>1</th>\n",
       "      <td>2.029072</td>\n",
       "      <td>-0.045386</td>\n",
       "      <td>-1.450679</td>\n",
       "      <td>-1.651076</td>\n",
       "      <td>0.535429</td>\n",
       "      <td>-2.064415</td>\n",
       "    </tr>\n",
       "    <tr>\n",
       "      <th>2</th>\n",
       "      <td>-0.405228</td>\n",
       "      <td>-2.288315</td>\n",
       "      <td>1.049397</td>\n",
       "      <td>-0.662159</td>\n",
       "      <td>-1.204220</td>\n",
       "      <td>1.461976</td>\n",
       "    </tr>\n",
       "  </tbody>\n",
       "</table>\n",
       "</div>"
      ],
      "text/plain": [
       "          A         B         C         D         E         F\n",
       "0  1.650700  0.154336 -0.387140 -0.416474 -0.742554  1.072470\n",
       "1  2.029072 -0.045386 -1.450679 -1.651076  0.535429 -2.064415\n",
       "2 -0.405228 -2.288315  1.049397 -0.662159 -1.204220  1.461976"
      ]
     },
     "execution_count": 78,
     "metadata": {},
     "output_type": "execute_result"
    }
   ],
   "source": [
    "#pd.merge(left_on=None, right_on=None, left_index=False,\n",
    "#right_index=False)\n",
    "d1=pd.DataFrame(np.random.randn(3,3),columns=list('ABC'))\n",
    "print(d1)\n",
    "d2=pd.DataFrame(np.random.randn(3,3),columns=list('DEF'))\n",
    "print(d2)\n",
    "pd.merge(d1,d2,left_index=True, right_index=True)"
   ]
  },
  {
   "cell_type": "code",
   "execution_count": 79,
   "metadata": {},
   "outputs": [
    {
     "data": {
      "text/html": [
       "<div>\n",
       "<style scoped>\n",
       "    .dataframe tbody tr th:only-of-type {\n",
       "        vertical-align: middle;\n",
       "    }\n",
       "\n",
       "    .dataframe tbody tr th {\n",
       "        vertical-align: top;\n",
       "    }\n",
       "\n",
       "    .dataframe thead th {\n",
       "        text-align: right;\n",
       "    }\n",
       "</style>\n",
       "<table border=\"1\" class=\"dataframe\">\n",
       "  <thead>\n",
       "    <tr style=\"text-align: right;\">\n",
       "      <th></th>\n",
       "      <th>A</th>\n",
       "      <th>B</th>\n",
       "      <th>C</th>\n",
       "    </tr>\n",
       "  </thead>\n",
       "  <tbody>\n",
       "    <tr>\n",
       "      <th>0</th>\n",
       "      <td>1.766161</td>\n",
       "      <td>-0.329414</td>\n",
       "      <td>0.840733</td>\n",
       "    </tr>\n",
       "    <tr>\n",
       "      <th>1</th>\n",
       "      <td>-0.179986</td>\n",
       "      <td>0.568062</td>\n",
       "      <td>-0.752837</td>\n",
       "    </tr>\n",
       "    <tr>\n",
       "      <th>2</th>\n",
       "      <td>-1.708339</td>\n",
       "      <td>-1.803099</td>\n",
       "      <td>0.383122</td>\n",
       "    </tr>\n",
       "  </tbody>\n",
       "</table>\n",
       "</div>"
      ],
      "text/plain": [
       "          A         B         C\n",
       "0  1.766161 -0.329414  0.840733\n",
       "1 -0.179986  0.568062 -0.752837\n",
       "2 -1.708339 -1.803099  0.383122"
      ]
     },
     "execution_count": 79,
     "metadata": {},
     "output_type": "execute_result"
    }
   ],
   "source": [
    "#增加1行数据：Append()\n",
    "df = pd.DataFrame(np.random.randn(3, 3), columns=['A','B','C'])\n",
    "df"
   ]
  },
  {
   "cell_type": "code",
   "execution_count": 80,
   "metadata": {},
   "outputs": [
    {
     "data": {
      "text/html": [
       "<div>\n",
       "<style scoped>\n",
       "    .dataframe tbody tr th:only-of-type {\n",
       "        vertical-align: middle;\n",
       "    }\n",
       "\n",
       "    .dataframe tbody tr th {\n",
       "        vertical-align: top;\n",
       "    }\n",
       "\n",
       "    .dataframe thead th {\n",
       "        text-align: right;\n",
       "    }\n",
       "</style>\n",
       "<table border=\"1\" class=\"dataframe\">\n",
       "  <thead>\n",
       "    <tr style=\"text-align: right;\">\n",
       "      <th></th>\n",
       "      <th>A</th>\n",
       "      <th>B</th>\n",
       "      <th>C</th>\n",
       "    </tr>\n",
       "  </thead>\n",
       "  <tbody>\n",
       "    <tr>\n",
       "      <th>0</th>\n",
       "      <td>1.766161</td>\n",
       "      <td>-0.329414</td>\n",
       "      <td>0.840733</td>\n",
       "    </tr>\n",
       "    <tr>\n",
       "      <th>1</th>\n",
       "      <td>-0.179986</td>\n",
       "      <td>0.568062</td>\n",
       "      <td>-0.752837</td>\n",
       "    </tr>\n",
       "    <tr>\n",
       "      <th>2</th>\n",
       "      <td>-1.708339</td>\n",
       "      <td>-1.803099</td>\n",
       "      <td>0.383122</td>\n",
       "    </tr>\n",
       "    <tr>\n",
       "      <th>3</th>\n",
       "      <td>1.000000</td>\n",
       "      <td>1.000000</td>\n",
       "      <td>1.000000</td>\n",
       "    </tr>\n",
       "  </tbody>\n",
       "</table>\n",
       "</div>"
      ],
      "text/plain": [
       "          A         B         C\n",
       "0  1.766161 -0.329414  0.840733\n",
       "1 -0.179986  0.568062 -0.752837\n",
       "2 -1.708339 -1.803099  0.383122\n",
       "3  1.000000  1.000000  1.000000"
      ]
     },
     "execution_count": 80,
     "metadata": {},
     "output_type": "execute_result"
    }
   ],
   "source": [
    "s=pd.Series([1.,1,1],index=list('ABC'))\n",
    "df.append(s,ignore_index=True)"
   ]
  },
  {
   "cell_type": "code",
   "execution_count": 81,
   "metadata": {},
   "outputs": [],
   "source": [
    "#聚类分析 groupby\n",
    "df = pd.DataFrame({'A' : ['true', 'false', 'true', 'false',\n",
    "                           'true', 'false', 'true', 'false'],\n",
    "                    'B' : ['one', 'one', 'two', 'three',\n",
    "                          'two', 'two', 'one', 'three'],\n",
    "                    'C' : np.random.randn(8),\n",
    "                    'D' : np.random.randn(8)})"
   ]
  },
  {
   "cell_type": "code",
   "execution_count": 82,
   "metadata": {},
   "outputs": [
    {
     "data": {
      "text/html": [
       "<div>\n",
       "<style scoped>\n",
       "    .dataframe tbody tr th:only-of-type {\n",
       "        vertical-align: middle;\n",
       "    }\n",
       "\n",
       "    .dataframe tbody tr th {\n",
       "        vertical-align: top;\n",
       "    }\n",
       "\n",
       "    .dataframe thead th {\n",
       "        text-align: right;\n",
       "    }\n",
       "</style>\n",
       "<table border=\"1\" class=\"dataframe\">\n",
       "  <thead>\n",
       "    <tr style=\"text-align: right;\">\n",
       "      <th></th>\n",
       "      <th>A</th>\n",
       "      <th>B</th>\n",
       "      <th>C</th>\n",
       "      <th>D</th>\n",
       "    </tr>\n",
       "  </thead>\n",
       "  <tbody>\n",
       "    <tr>\n",
       "      <th>0</th>\n",
       "      <td>true</td>\n",
       "      <td>one</td>\n",
       "      <td>2.247595</td>\n",
       "      <td>-0.309476</td>\n",
       "    </tr>\n",
       "    <tr>\n",
       "      <th>1</th>\n",
       "      <td>false</td>\n",
       "      <td>one</td>\n",
       "      <td>0.269412</td>\n",
       "      <td>-1.434963</td>\n",
       "    </tr>\n",
       "    <tr>\n",
       "      <th>2</th>\n",
       "      <td>true</td>\n",
       "      <td>two</td>\n",
       "      <td>-0.524605</td>\n",
       "      <td>0.501624</td>\n",
       "    </tr>\n",
       "    <tr>\n",
       "      <th>3</th>\n",
       "      <td>false</td>\n",
       "      <td>three</td>\n",
       "      <td>1.912019</td>\n",
       "      <td>-0.094775</td>\n",
       "    </tr>\n",
       "    <tr>\n",
       "      <th>4</th>\n",
       "      <td>true</td>\n",
       "      <td>two</td>\n",
       "      <td>0.237302</td>\n",
       "      <td>1.193086</td>\n",
       "    </tr>\n",
       "    <tr>\n",
       "      <th>5</th>\n",
       "      <td>false</td>\n",
       "      <td>two</td>\n",
       "      <td>0.101434</td>\n",
       "      <td>-0.368818</td>\n",
       "    </tr>\n",
       "    <tr>\n",
       "      <th>6</th>\n",
       "      <td>true</td>\n",
       "      <td>one</td>\n",
       "      <td>0.252578</td>\n",
       "      <td>-1.906370</td>\n",
       "    </tr>\n",
       "    <tr>\n",
       "      <th>7</th>\n",
       "      <td>false</td>\n",
       "      <td>three</td>\n",
       "      <td>-0.132377</td>\n",
       "      <td>-0.099611</td>\n",
       "    </tr>\n",
       "  </tbody>\n",
       "</table>\n",
       "</div>"
      ],
      "text/plain": [
       "       A      B         C         D\n",
       "0   true    one  2.247595 -0.309476\n",
       "1  false    one  0.269412 -1.434963\n",
       "2   true    two -0.524605  0.501624\n",
       "3  false  three  1.912019 -0.094775\n",
       "4   true    two  0.237302  1.193086\n",
       "5  false    two  0.101434 -0.368818\n",
       "6   true    one  0.252578 -1.906370\n",
       "7  false  three -0.132377 -0.099611"
      ]
     },
     "execution_count": 82,
     "metadata": {},
     "output_type": "execute_result"
    }
   ],
   "source": [
    "df"
   ]
  },
  {
   "cell_type": "code",
   "execution_count": 83,
   "metadata": {},
   "outputs": [
    {
     "data": {
      "text/html": [
       "<div>\n",
       "<style scoped>\n",
       "    .dataframe tbody tr th:only-of-type {\n",
       "        vertical-align: middle;\n",
       "    }\n",
       "\n",
       "    .dataframe tbody tr th {\n",
       "        vertical-align: top;\n",
       "    }\n",
       "\n",
       "    .dataframe thead th {\n",
       "        text-align: right;\n",
       "    }\n",
       "</style>\n",
       "<table border=\"1\" class=\"dataframe\">\n",
       "  <thead>\n",
       "    <tr style=\"text-align: right;\">\n",
       "      <th></th>\n",
       "      <th>C</th>\n",
       "      <th>D</th>\n",
       "    </tr>\n",
       "    <tr>\n",
       "      <th>A</th>\n",
       "      <th></th>\n",
       "      <th></th>\n",
       "    </tr>\n",
       "  </thead>\n",
       "  <tbody>\n",
       "    <tr>\n",
       "      <th>false</th>\n",
       "      <td>2.150487</td>\n",
       "      <td>-1.998168</td>\n",
       "    </tr>\n",
       "    <tr>\n",
       "      <th>true</th>\n",
       "      <td>2.212870</td>\n",
       "      <td>-0.521136</td>\n",
       "    </tr>\n",
       "  </tbody>\n",
       "</table>\n",
       "</div>"
      ],
      "text/plain": [
       "              C         D\n",
       "A                        \n",
       "false  2.150487 -1.998168\n",
       "true   2.212870 -0.521136"
      ]
     },
     "execution_count": 83,
     "metadata": {},
     "output_type": "execute_result"
    }
   ],
   "source": [
    "df.groupby(['A']).sum()  #以A列特征分类并加总"
   ]
  },
  {
   "cell_type": "code",
   "execution_count": 84,
   "metadata": {},
   "outputs": [
    {
     "data": {
      "text/html": [
       "<div>\n",
       "<style scoped>\n",
       "    .dataframe tbody tr th:only-of-type {\n",
       "        vertical-align: middle;\n",
       "    }\n",
       "\n",
       "    .dataframe tbody tr th {\n",
       "        vertical-align: top;\n",
       "    }\n",
       "\n",
       "    .dataframe thead th {\n",
       "        text-align: right;\n",
       "    }\n",
       "</style>\n",
       "<table border=\"1\" class=\"dataframe\">\n",
       "  <thead>\n",
       "    <tr style=\"text-align: right;\">\n",
       "      <th></th>\n",
       "      <th></th>\n",
       "      <th>C</th>\n",
       "      <th>D</th>\n",
       "    </tr>\n",
       "    <tr>\n",
       "      <th>A</th>\n",
       "      <th>B</th>\n",
       "      <th></th>\n",
       "      <th></th>\n",
       "    </tr>\n",
       "  </thead>\n",
       "  <tbody>\n",
       "    <tr>\n",
       "      <th rowspan=\"3\" valign=\"top\">false</th>\n",
       "      <th>one</th>\n",
       "      <td>0.269412</td>\n",
       "      <td>-1.434963</td>\n",
       "    </tr>\n",
       "    <tr>\n",
       "      <th>three</th>\n",
       "      <td>1.779642</td>\n",
       "      <td>-0.194386</td>\n",
       "    </tr>\n",
       "    <tr>\n",
       "      <th>two</th>\n",
       "      <td>0.101434</td>\n",
       "      <td>-0.368818</td>\n",
       "    </tr>\n",
       "    <tr>\n",
       "      <th rowspan=\"2\" valign=\"top\">true</th>\n",
       "      <th>one</th>\n",
       "      <td>2.500173</td>\n",
       "      <td>-2.215846</td>\n",
       "    </tr>\n",
       "    <tr>\n",
       "      <th>two</th>\n",
       "      <td>-0.287303</td>\n",
       "      <td>1.694710</td>\n",
       "    </tr>\n",
       "  </tbody>\n",
       "</table>\n",
       "</div>"
      ],
      "text/plain": [
       "                    C         D\n",
       "A     B                        \n",
       "false one    0.269412 -1.434963\n",
       "      three  1.779642 -0.194386\n",
       "      two    0.101434 -0.368818\n",
       "true  one    2.500173 -2.215846\n",
       "      two   -0.287303  1.694710"
      ]
     },
     "execution_count": 84,
     "metadata": {},
     "output_type": "execute_result"
    }
   ],
   "source": [
    "df.groupby(['A','B']).sum()"
   ]
  },
  {
   "cell_type": "code",
   "execution_count": 85,
   "metadata": {},
   "outputs": [
    {
     "data": {
      "text/html": [
       "<div>\n",
       "<style scoped>\n",
       "    .dataframe tbody tr th:only-of-type {\n",
       "        vertical-align: middle;\n",
       "    }\n",
       "\n",
       "    .dataframe tbody tr th {\n",
       "        vertical-align: top;\n",
       "    }\n",
       "\n",
       "    .dataframe thead th {\n",
       "        text-align: right;\n",
       "    }\n",
       "</style>\n",
       "<table border=\"1\" class=\"dataframe\">\n",
       "  <thead>\n",
       "    <tr style=\"text-align: right;\">\n",
       "      <th></th>\n",
       "      <th>A</th>\n",
       "      <th>B</th>\n",
       "      <th>C</th>\n",
       "      <th>D</th>\n",
       "      <th>E</th>\n",
       "    </tr>\n",
       "  </thead>\n",
       "  <tbody>\n",
       "    <tr>\n",
       "      <th>0</th>\n",
       "      <td>one</td>\n",
       "      <td>A</td>\n",
       "      <td>foo</td>\n",
       "      <td>1.699537</td>\n",
       "      <td>-0.212733</td>\n",
       "    </tr>\n",
       "    <tr>\n",
       "      <th>1</th>\n",
       "      <td>one</td>\n",
       "      <td>B</td>\n",
       "      <td>foo</td>\n",
       "      <td>-0.383423</td>\n",
       "      <td>0.331974</td>\n",
       "    </tr>\n",
       "    <tr>\n",
       "      <th>2</th>\n",
       "      <td>two</td>\n",
       "      <td>C</td>\n",
       "      <td>foo</td>\n",
       "      <td>-0.889857</td>\n",
       "      <td>0.735027</td>\n",
       "    </tr>\n",
       "    <tr>\n",
       "      <th>3</th>\n",
       "      <td>three</td>\n",
       "      <td>A</td>\n",
       "      <td>bar</td>\n",
       "      <td>-1.193592</td>\n",
       "      <td>-0.192855</td>\n",
       "    </tr>\n",
       "    <tr>\n",
       "      <th>4</th>\n",
       "      <td>one</td>\n",
       "      <td>B</td>\n",
       "      <td>bar</td>\n",
       "      <td>-1.050017</td>\n",
       "      <td>-1.778013</td>\n",
       "    </tr>\n",
       "    <tr>\n",
       "      <th>5</th>\n",
       "      <td>one</td>\n",
       "      <td>C</td>\n",
       "      <td>bar</td>\n",
       "      <td>-0.300194</td>\n",
       "      <td>0.654706</td>\n",
       "    </tr>\n",
       "    <tr>\n",
       "      <th>6</th>\n",
       "      <td>two</td>\n",
       "      <td>A</td>\n",
       "      <td>foo</td>\n",
       "      <td>-1.179982</td>\n",
       "      <td>0.894352</td>\n",
       "    </tr>\n",
       "    <tr>\n",
       "      <th>7</th>\n",
       "      <td>three</td>\n",
       "      <td>B</td>\n",
       "      <td>foo</td>\n",
       "      <td>1.497639</td>\n",
       "      <td>0.415503</td>\n",
       "    </tr>\n",
       "    <tr>\n",
       "      <th>8</th>\n",
       "      <td>one</td>\n",
       "      <td>C</td>\n",
       "      <td>foo</td>\n",
       "      <td>-0.282635</td>\n",
       "      <td>-0.923545</td>\n",
       "    </tr>\n",
       "    <tr>\n",
       "      <th>9</th>\n",
       "      <td>one</td>\n",
       "      <td>A</td>\n",
       "      <td>bar</td>\n",
       "      <td>0.108648</td>\n",
       "      <td>-0.196027</td>\n",
       "    </tr>\n",
       "    <tr>\n",
       "      <th>10</th>\n",
       "      <td>two</td>\n",
       "      <td>B</td>\n",
       "      <td>bar</td>\n",
       "      <td>1.438240</td>\n",
       "      <td>-0.590770</td>\n",
       "    </tr>\n",
       "    <tr>\n",
       "      <th>11</th>\n",
       "      <td>three</td>\n",
       "      <td>C</td>\n",
       "      <td>bar</td>\n",
       "      <td>1.503319</td>\n",
       "      <td>-0.299711</td>\n",
       "    </tr>\n",
       "  </tbody>\n",
       "</table>\n",
       "</div>"
      ],
      "text/plain": [
       "        A  B    C         D         E\n",
       "0     one  A  foo  1.699537 -0.212733\n",
       "1     one  B  foo -0.383423  0.331974\n",
       "2     two  C  foo -0.889857  0.735027\n",
       "3   three  A  bar -1.193592 -0.192855\n",
       "4     one  B  bar -1.050017 -1.778013\n",
       "5     one  C  bar -0.300194  0.654706\n",
       "6     two  A  foo -1.179982  0.894352\n",
       "7   three  B  foo  1.497639  0.415503\n",
       "8     one  C  foo -0.282635 -0.923545\n",
       "9     one  A  bar  0.108648 -0.196027\n",
       "10    two  B  bar  1.438240 -0.590770\n",
       "11  three  C  bar  1.503319 -0.299711"
      ]
     },
     "execution_count": 85,
     "metadata": {},
     "output_type": "execute_result"
    }
   ],
   "source": [
    "#数据透视表\n",
    "df = pd.DataFrame({'A' : ['one', 'one', 'two', 'three'] * 3,\n",
    "                   'B' : ['A', 'B', 'C'] * 4,\n",
    "                   'C' : ['foo', 'foo', 'foo', 'bar', 'bar',\n",
    "                          'bar'] * 2,\n",
    "                   'D' : np.random.randn(12),\n",
    "                   'E' : np.random.randn(12)})\n",
    "df"
   ]
  },
  {
   "cell_type": "code",
   "execution_count": 86,
   "metadata": {},
   "outputs": [
    {
     "data": {
      "text/html": [
       "<div>\n",
       "<style scoped>\n",
       "    .dataframe tbody tr th:only-of-type {\n",
       "        vertical-align: middle;\n",
       "    }\n",
       "\n",
       "    .dataframe tbody tr th {\n",
       "        vertical-align: top;\n",
       "    }\n",
       "\n",
       "    .dataframe thead th {\n",
       "        text-align: right;\n",
       "    }\n",
       "</style>\n",
       "<table border=\"1\" class=\"dataframe\">\n",
       "  <thead>\n",
       "    <tr style=\"text-align: right;\">\n",
       "      <th></th>\n",
       "      <th>C</th>\n",
       "      <th>bar</th>\n",
       "      <th>foo</th>\n",
       "    </tr>\n",
       "    <tr>\n",
       "      <th>A</th>\n",
       "      <th>B</th>\n",
       "      <th></th>\n",
       "      <th></th>\n",
       "    </tr>\n",
       "  </thead>\n",
       "  <tbody>\n",
       "    <tr>\n",
       "      <th rowspan=\"3\" valign=\"top\">one</th>\n",
       "      <th>A</th>\n",
       "      <td>0.108648</td>\n",
       "      <td>1.699537</td>\n",
       "    </tr>\n",
       "    <tr>\n",
       "      <th>B</th>\n",
       "      <td>-1.050017</td>\n",
       "      <td>-0.383423</td>\n",
       "    </tr>\n",
       "    <tr>\n",
       "      <th>C</th>\n",
       "      <td>-0.300194</td>\n",
       "      <td>-0.282635</td>\n",
       "    </tr>\n",
       "    <tr>\n",
       "      <th rowspan=\"3\" valign=\"top\">three</th>\n",
       "      <th>A</th>\n",
       "      <td>-1.193592</td>\n",
       "      <td>NaN</td>\n",
       "    </tr>\n",
       "    <tr>\n",
       "      <th>B</th>\n",
       "      <td>NaN</td>\n",
       "      <td>1.497639</td>\n",
       "    </tr>\n",
       "    <tr>\n",
       "      <th>C</th>\n",
       "      <td>1.503319</td>\n",
       "      <td>NaN</td>\n",
       "    </tr>\n",
       "    <tr>\n",
       "      <th rowspan=\"3\" valign=\"top\">two</th>\n",
       "      <th>A</th>\n",
       "      <td>NaN</td>\n",
       "      <td>-1.179982</td>\n",
       "    </tr>\n",
       "    <tr>\n",
       "      <th>B</th>\n",
       "      <td>1.438240</td>\n",
       "      <td>NaN</td>\n",
       "    </tr>\n",
       "    <tr>\n",
       "      <th>C</th>\n",
       "      <td>NaN</td>\n",
       "      <td>-0.889857</td>\n",
       "    </tr>\n",
       "  </tbody>\n",
       "</table>\n",
       "</div>"
      ],
      "text/plain": [
       "C             bar       foo\n",
       "A     B                    \n",
       "one   A  0.108648  1.699537\n",
       "      B -1.050017 -0.383423\n",
       "      C -0.300194 -0.282635\n",
       "three A -1.193592       NaN\n",
       "      B       NaN  1.497639\n",
       "      C  1.503319       NaN\n",
       "two   A       NaN -1.179982\n",
       "      B  1.438240       NaN\n",
       "      C       NaN -0.889857"
      ]
     },
     "execution_count": 86,
     "metadata": {},
     "output_type": "execute_result"
    }
   ],
   "source": [
    "pd.pivot_table(df, values='D', index=['A', 'B'], columns=['C'])"
   ]
  },
  {
   "cell_type": "code",
   "execution_count": 87,
   "metadata": {},
   "outputs": [
    {
     "data": {
      "text/plain": [
       "<matplotlib.axes._subplots.AxesSubplot at 0x11f8ea4e0>"
      ]
     },
     "execution_count": 87,
     "metadata": {},
     "output_type": "execute_result"
    },
    {
     "name": "stderr",
     "output_type": "stream",
     "text": [
      "/Users/toukyou/anaconda3/lib/python3.7/site-packages/matplotlib/font_manager.py:1331: UserWarning: findfont: Font family ['sans-serif'] not found. Falling back to DejaVu Sans\n",
      "  (prop.get_family(), self.defaultFamily[fontext]))\n"
     ]
    },
    {
     "data": {
      "image/png": "[encoded data removed]",
      "text/plain": [
       "<Figure size 864x576 with 1 Axes>"
      ]
     },
     "metadata": {
      "needs_background": "light"
     },
     "output_type": "display_data"
    }
   ],
   "source": [
    "#6、数据可视化（画图）\n",
    "import matplotlib.pyplot as plt\n",
    "from pylab import mpl\n",
    "mpl.rcParams['font.sans-serif'] = ['SimHei'] # 用来正常显示中文标签\n",
    "mpl.rcParams['axes.unicode_minus']=False  # 用来正常显示负号\n",
    "%matplotlib inline\n",
    "ts = pd.Series(np.random.randn(1000), index=pd.date_range('1/1/2000',\n",
    "                periods=1000))\n",
    "ts = ts.cumsum()\n",
    "ts.plot(figsize=(12,8))"
   ]
  },
  {
   "cell_type": "code",
   "execution_count": 89,
   "metadata": {},
   "outputs": [
    {
     "data": {
      "text/plain": [
       "Text(0.5,1,'上证指数走势')"
      ]
     },
     "execution_count": 89,
     "metadata": {},
     "output_type": "execute_result"
    },
    {
     "name": "stderr",
     "output_type": "stream",
     "text": [
      "/Users/toukyou/anaconda3/lib/python3.7/site-packages/matplotlib/font_manager.py:1331: UserWarning: findfont: Font family ['sans-serif'] not found. Falling back to DejaVu Sans\n",
      "  (prop.get_family(), self.defaultFamily[fontext]))\n"
     ]
    },
    {
     "data": {
      "image/png": "[encoded data removed]",
      "text/plain": [
       "<Figure size 864x576 with 1 Axes>"
      ]
     },
     "metadata": {
      "needs_background": "light"
     },
     "output_type": "display_data"
    }
   ],
   "source": [
    "#利用tushare包抓取股票数据并画图\n",
    "#得到的是DataFrame的数据结构\n",
    "import tushare as ts\n",
    "df=ts.get_k_data('sh',start='1990-01-01')\n",
    "import pandas as pd\n",
    "df.index=pd.to_datetime(df['date'])\n",
    "df['close'].plot(figsize=(12,8))\n",
    "plt.title(\"上证指数走势\")"
   ]
  },
  {
   "cell_type": "code",
   "execution_count": null,
   "metadata": {},
   "outputs": [],
   "source": []
  }
 ],
 "metadata": {
  "celltoolbar": "Slideshow",
  "kernelspec": {
   "display_name": "Python 3",
   "language": "python",
   "name": "python3"
  },
  "language_info": {
   "codemirror_mode": {
    "name": "ipython",
    "version": 3
   },
   "file_extension": ".py",
   "mimetype": "text/x-python",
   "name": "python",
   "nbconvert_exporter": "python",
   "pygments_lexer": "ipython3",
   "version": "3.7.0"
  }
 },
 "nbformat": 4,
 "nbformat_minor": 2
}
