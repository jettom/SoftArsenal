{
 "cells": [
  {
   "cell_type": "code",
   "execution_count": 1,
   "metadata": {},
   "outputs": [],
   "source": [
    "import pandas as pd  # 将pandas作为第三方库导入，我们一般为pandas取一个别名叫做pd\n",
    "\n",
    "pd.set_option('expand_frame_repr', False)  # 当列太多时清楚展示"
   ]
  },
  {
   "cell_type": "code",
   "execution_count": 2,
   "metadata": {},
   "outputs": [],
   "source": [
    "# =====导入数据\n",
    "df = pd.read_csv(\n",
    "    r'E:\\project\\stockA_coding\\data\\a_stock_201903.csv',\n",
    "    encoding='gbk'#,\n",
    "    #skiprows=1\n",
    ")"
   ]
  },
  {
   "cell_type": "code",
   "execution_count": 4,
   "metadata": {},
   "outputs": [
    {
     "name": "stdout",
     "output_type": "stream",
     "text": [
      "0        sh600000\n",
      "1        sh600000\n",
      "2        sh600000\n",
      "3        sh600000\n",
      "4        sh600000\n",
      "           ...   \n",
      "74959    sz300766\n",
      "74960    sz300766\n",
      "74961    sz300766\n",
      "74962    sz300766\n",
      "74963    sz300767\n",
      "Name: 股票代码, Length: 74964, dtype: object\n"
     ]
    }
   ],
   "source": [
    "# =====字符串处理\n",
    "print(df['股票代码'])"
   ]
  },
  {
   "cell_type": "code",
   "execution_count": 5,
   "metadata": {},
   "outputs": [
    {
     "name": "stdout",
     "output_type": "stream",
     "text": [
      "sh\n"
     ]
    }
   ],
   "source": [
    "print('sh600000'[:2])"
   ]
  },
  {
   "cell_type": "code",
   "execution_count": 6,
   "metadata": {},
   "outputs": [
    {
     "name": "stdout",
     "output_type": "stream",
     "text": [
      "0        sh\n",
      "1        sh\n",
      "2        sh\n",
      "3        sh\n",
      "4        sh\n",
      "         ..\n",
      "74959    sz\n",
      "74960    sz\n",
      "74961    sz\n",
      "74962    sz\n",
      "74963    sz\n",
      "Name: 股票代码, Length: 74964, dtype: object\n"
     ]
    }
   ],
   "source": [
    "print(df['股票代码'].str[:2])"
   ]
  },
  {
   "cell_type": "code",
   "execution_count": 7,
   "metadata": {},
   "outputs": [
    {
     "name": "stdout",
     "output_type": "stream",
     "text": [
      "0        SH600000\n",
      "1        SH600000\n",
      "2        SH600000\n",
      "3        SH600000\n",
      "4        SH600000\n",
      "           ...   \n",
      "74959    SZ300766\n",
      "74960    SZ300766\n",
      "74961    SZ300766\n",
      "74962    SZ300766\n",
      "74963    SZ300767\n",
      "Name: 股票代码, Length: 74964, dtype: object\n"
     ]
    }
   ],
   "source": [
    "print(df['股票代码'].str.upper())  # 加上str之后可以使用常见的字符串函数对整列进行操作"
   ]
  },
  {
   "cell_type": "code",
   "execution_count": 8,
   "metadata": {},
   "outputs": [
    {
     "name": "stdout",
     "output_type": "stream",
     "text": [
      "0        sh600000\n",
      "1        sh600000\n",
      "2        sh600000\n",
      "3        sh600000\n",
      "4        sh600000\n",
      "           ...   \n",
      "74959    sz300766\n",
      "74960    sz300766\n",
      "74961    sz300766\n",
      "74962    sz300766\n",
      "74963    sz300767\n",
      "Name: 股票代码, Length: 74964, dtype: object\n"
     ]
    }
   ],
   "source": [
    "print(df['股票代码'].str.lower())"
   ]
  },
  {
   "cell_type": "code",
   "execution_count": 9,
   "metadata": {},
   "outputs": [
    {
     "name": "stdout",
     "output_type": "stream",
     "text": [
      "0        8\n",
      "1        8\n",
      "2        8\n",
      "3        8\n",
      "4        8\n",
      "        ..\n",
      "74959    8\n",
      "74960    8\n",
      "74961    8\n",
      "74962    8\n",
      "74963    8\n",
      "Name: 股票代码, Length: 74964, dtype: int64\n"
     ]
    }
   ],
   "source": [
    "print(df['股票代码'].str.len())  # 计算字符串的长度,length"
   ]
  },
  {
   "cell_type": "code",
   "execution_count": 10,
   "metadata": {},
   "outputs": [
    {
     "data": {
      "text/plain": [
       "0        sh600000\n",
       "1        sh600000\n",
       "2        sh600000\n",
       "3        sh600000\n",
       "4        sh600000\n",
       "           ...   \n",
       "74959    sz300766\n",
       "74960    sz300766\n",
       "74961    sz300766\n",
       "74962    sz300766\n",
       "74963    sz300767\n",
       "Name: 股票代码, Length: 74964, dtype: object"
      ]
     },
     "execution_count": 10,
     "metadata": {},
     "output_type": "execute_result"
    }
   ],
   "source": [
    "df['股票代码'].str.strip()  # strip操作，把字符串两边的空格去掉"
   ]
  },
  {
   "cell_type": "code",
   "execution_count": 11,
   "metadata": {},
   "outputs": [
    {
     "name": "stdout",
     "output_type": "stream",
     "text": [
      "0        sh600000\n",
      "1        sh600000\n",
      "2        sh600000\n",
      "3        sh600000\n",
      "4        sh600000\n",
      "           ...   \n",
      "74959    sz300766\n",
      "74960    sz300766\n",
      "74961    sz300766\n",
      "74962    sz300766\n",
      "74963    sz300767\n",
      "Name: 股票代码, Length: 74964, dtype: object\n"
     ]
    }
   ],
   "source": [
    "print(df['股票代码'])"
   ]
  },
  {
   "cell_type": "code",
   "execution_count": 12,
   "metadata": {},
   "outputs": [
    {
     "name": "stdout",
     "output_type": "stream",
     "text": [
      "0        False\n",
      "1        False\n",
      "2        False\n",
      "3        False\n",
      "4        False\n",
      "         ...  \n",
      "74959    False\n",
      "74960    False\n",
      "74961    False\n",
      "74962    False\n",
      "74963     True\n",
      "Name: 股票代码, Length: 74964, dtype: bool\n"
     ]
    }
   ],
   "source": [
    "print(df['股票代码'].str.contains('767'))  # 判断字符串中是否包含某些特定字符"
   ]
  },
  {
   "cell_type": "code",
   "execution_count": 13,
   "metadata": {},
   "outputs": [
    {
     "name": "stdout",
     "output_type": "stream",
     "text": [
      "0        sh600000\n",
      "1        sh600000\n",
      "2        sh600000\n",
      "3        sh600000\n",
      "4        sh600000\n",
      "           ...   \n",
      "74959    sh300766\n",
      "74960    sh300766\n",
      "74961    sh300766\n",
      "74962    sh300766\n",
      "74963    sh300767\n",
      "Name: 股票代码, Length: 74964, dtype: object\n"
     ]
    }
   ],
   "source": [
    "print(df['股票代码'].str.replace('sz', 'sh'))  # 进行替换，将sz替换成sh\n",
    "# 更多字符串函数请见：http://pandas.pydata.org/pandas-docs/stable/text.html#method-summary"
   ]
  },
  {
   "cell_type": "code",
   "execution_count": null,
   "metadata": {},
   "outputs": [],
   "source": []
  }
 ],
 "metadata": {
  "kernelspec": {
   "display_name": "Python 3",
   "language": "python",
   "name": "python3"
  },
  "language_info": {
   "codemirror_mode": {
    "name": "ipython",
    "version": 3
   },
   "file_extension": ".py",
   "mimetype": "text/x-python",
   "name": "python",
   "nbconvert_exporter": "python",
   "pygments_lexer": "ipython3",
   "version": "3.7.1"
  }
 },
 "nbformat": 4,
 "nbformat_minor": 2
}
