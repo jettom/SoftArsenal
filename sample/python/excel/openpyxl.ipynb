{
 "cells": [
  {
   "cell_type": "code",
   "execution_count": 1,
   "metadata": {},
   "outputs": [],
   "source": [
    "#Python利用openpyxl来操作Excel(一)\n",
    "from openpyxl import load_workbook"
   ]
  },
  {
   "cell_type": "code",
   "execution_count": 2,
   "metadata": {},
   "outputs": [],
   "source": [
    "from openpyxl.styles import colors, Font, Fill, NamedStyle\n",
    "from openpyxl.styles import PatternFill, Border, Side, Alignment"
   ]
  },
  {
   "cell_type": "code",
   "execution_count": 4,
   "metadata": {},
   "outputs": [],
   "source": [
    "wb = load_workbook('./book.xlsx')"
   ]
  },
  {
   "cell_type": "code",
   "execution_count": 5,
   "metadata": {},
   "outputs": [
    {
     "name": "stdout",
     "output_type": "stream",
     "text": [
      "输出文件所有工作表名： ['Sheet2']\n"
     ]
    }
   ],
   "source": [
    "# 读取sheetname\n",
    "print('输出文件所有工作表名：', wb.sheetnames)\n"
   ]
  },
  {
   "cell_type": "code",
   "execution_count": 6,
   "metadata": {},
   "outputs": [],
   "source": [
    "ws = wb['Sheet2']"
   ]
  },
  {
   "cell_type": "code",
   "execution_count": 7,
   "metadata": {},
   "outputs": [],
   "source": [
    "sheet_names = wb.sheetnames"
   ]
  },
  {
   "cell_type": "code",
   "execution_count": 8,
   "metadata": {},
   "outputs": [],
   "source": [
    "ws2 = wb[sheet_names[0]]    # index为0为第一张表"
   ]
  },
  {
   "cell_type": "code",
   "execution_count": 9,
   "metadata": {},
   "outputs": [
    {
     "name": "stdout",
     "output_type": "stream",
     "text": [
      "True\n"
     ]
    }
   ],
   "source": [
    "print(ws is ws2)"
   ]
  },
  {
   "cell_type": "code",
   "execution_count": 10,
   "metadata": {},
   "outputs": [],
   "source": [
    "ws.title = '5a_'"
   ]
  },
  {
   "cell_type": "code",
   "execution_count": 11,
   "metadata": {},
   "outputs": [
    {
     "name": "stdout",
     "output_type": "stream",
     "text": [
      "修改sheetname： ['5a_']\n"
     ]
    }
   ],
   "source": [
    "print('修改sheetname：', wb.sheetnames)"
   ]
  },
  {
   "cell_type": "code",
   "execution_count": 12,
   "metadata": {},
   "outputs": [
    {
     "name": "stdout",
     "output_type": "stream",
     "text": [
      "创建新的sheet: ['newsheet', '5a_', 'Sheet']\n"
     ]
    }
   ],
   "source": [
    "# 创建新的sheet\n",
    "# 创建的新表必须要赋值给一个对象，不然只有名字但是没有实际的新表\n",
    "\n",
    "ws4 = wb.create_sheet(index=0, title='newsheet')\n",
    "# 什么参数都不写的话，默认插入到最后一个位置且名字为sheet,sheet1...按照顺序排列\n",
    "\n",
    "ws5 = wb.create_sheet()\n",
    "print('创建新的sheet:', wb.sheetnames)"
   ]
  },
  {
   "cell_type": "code",
   "execution_count": 13,
   "metadata": {},
   "outputs": [
    {
     "name": "stdout",
     "output_type": "stream",
     "text": [
      "删除sheet： ['5a_', 'Sheet']\n"
     ]
    }
   ],
   "source": [
    "# 删除sheet\n",
    "wb.remove(ws4)  # 这里只能写worksheet对象，不能写sheetname\n",
    "print('删除sheet：', wb.sheetnames)"
   ]
  },
  {
   "cell_type": "code",
   "execution_count": 14,
   "metadata": {},
   "outputs": [
    {
     "name": "stdout",
     "output_type": "stream",
     "text": [
      "最大列数为： 5\n",
      "最大行数为： 282\n"
     ]
    }
   ],
   "source": [
    "# 修改sheet选项卡背景色，默认为白色，设置为RRGGBB模式\n",
    "ws.sheet_properties.tabColor = \"FFA500\"\n",
    "\n",
    "# 读取有效区域\n",
    "\n",
    "print('最大列数为：', ws.max_column)\n",
    "print('最大行数为：', ws.max_row)"
   ]
  },
  {
   "cell_type": "code",
   "execution_count": 15,
   "metadata": {},
   "outputs": [],
   "source": [
    "# 插入行和列\n",
    "ws.insert_rows(1)  # 在第一行插入一行\n",
    "ws.insert_cols(2, 4)  # 从第二列开始插入四列\n",
    "\n",
    "# 删除行和列\n",
    "ws.delete_cols(6, 3)  # 从第六列（F列）开始，删除3列即（F:H）\n",
    "ws.delete_rows(3)   # 删除第三行"
   ]
  },
  {
   "cell_type": "code",
   "execution_count": 16,
   "metadata": {},
   "outputs": [
    {
     "name": "stdout",
     "output_type": "stream",
     "text": [
      "<Cell '5a_'.A1> <Cell '5a_'.B1>\n",
      "None None\n"
     ]
    }
   ],
   "source": [
    "# 读取\n",
    "c = ws['A1']\n",
    "c1 = ws.cell(row=1, column=2)\n",
    "print(c, c1)\n",
    "print(c.value, c1.value)"
   ]
  },
  {
   "cell_type": "code",
   "execution_count": 17,
   "metadata": {},
   "outputs": [
    {
     "name": "stdout",
     "output_type": "stream",
     "text": [
      "景区名称 省份\n"
     ]
    }
   ],
   "source": [
    "# 修改\n",
    "ws['A1'] = '景区名称'\n",
    "ws.cell(1, 2).value = '省份'\n",
    "print(c.value, c1.value)"
   ]
  },
  {
   "cell_type": "code",
   "execution_count": 18,
   "metadata": {},
   "outputs": [
    {
     "data": {
      "text/plain": [
       "((<Cell '5a_'.A1>, <Cell '5a_'.B1>), (<Cell '5a_'.A2>, <Cell '5a_'.B2>))"
      ]
     },
     "execution_count": 18,
     "metadata": {},
     "output_type": "execute_result"
    }
   ],
   "source": [
    "# 读取多个单元格\n",
    "\n",
    "cell_range = ws['A1:B2']\n",
    "colC = ws['C']\n",
    "col_range = ws['C:D']\n",
    "row10 = ws[10]\n",
    "row_range = ws[5:10]\n",
    "# 其返回的结果都是一个包含单元格的元组\n",
    "cell_range\n",
    "# 注意！！ 这里是两层元组嵌套，每一行的单元格位于同一个元组里。"
   ]
  },
  {
   "cell_type": "code",
   "execution_count": 19,
   "metadata": {},
   "outputs": [
    {
     "name": "stdout",
     "output_type": "stream",
     "text": [
      "<Cell '5a_'.A1>\n",
      "<Cell '5a_'.B1>\n",
      "<Cell '5a_'.A2>\n",
      "<Cell '5a_'.B2>\n",
      "<Cell '5a_'.A3>\n",
      "<Cell '5a_'.B3>\n"
     ]
    }
   ],
   "source": [
    "# 按照行列操作\n",
    "for row in ws.iter_rows(min_row=1, max_row=3,\n",
    "                        min_col=1, max_col=2):\n",
    "    for cell in row:\n",
    "        print(cell)\n",
    "# 也可以用worksheet.iter_col(),用法都一样"
   ]
  },
  {
   "cell_type": "code",
   "execution_count": 20,
   "metadata": {},
   "outputs": [],
   "source": [
    "# 合并单元格\n",
    "ws.merge_cells('F1:G1')\n",
    "ws['F1'] = '合并两个单元格'\n",
    "# 或者\n",
    "ws.merge_cells(start_row=2, start_column=6, end_row=3, end_column=8)\n",
    "ws.cell(2, 6).value = '合并三个单元格'\n",
    " \n",
    "# 取消合并单元格\n",
    "ws.unmerge_cells('F1:G1')\n",
    "# 或者\n",
    "ws.unmerge_cells(start_row=2, start_column=6, end_row=3, end_column=8)\n",
    "\n",
    "wb.save('./book.xlsx')\n",
    "# 保存之前的操作,保存文件时，文件必须是关闭的！！！"
   ]
  },
  {
   "cell_type": "code",
   "execution_count": 21,
   "metadata": {},
   "outputs": [],
   "source": [
    "wb = load_workbook('./book.xlsx')    # 读取修改后的文件\n",
    "ws = wb['5a_']\n",
    "# 我们来设置一个表头\n",
    "ws.insert_rows(1)    # 在第一行插入新的一行\n",
    "ws.merge_cells('A1:E1')  # 合并单元格\n",
    "a1 = ws['A1']\n",
    "ws['A1'] = '5A级风景区名单'\n",
    "\n",
    "# 设置字体\n",
    "ft = Font(name='微软雅黑', color='000000', size=15, b=True)\n",
    "\"\"\"\n",
    "name:字体名称\n",
    "color:颜色通常是RGB或aRGB十六进制值\n",
    "b(bold):加粗（bool）\n",
    "i(italic):倾斜(bool)\n",
    "shadow：阴影（bool）\n",
    "underline：下划线（‘doubleAccounting’, ‘single’, ‘double’, ‘singleAccounting’）\n",
    "charset:字符集(int)\n",
    "strike:删除线(bool)\n",
    "\"\"\"\n",
    "a1.font = ft\n",
    "\n",
    "# 设置文本对齐\n",
    "\n",
    "ali = Alignment(horizontal='center', vertical='center')\n",
    "\"\"\"\n",
    "horizontal:水平对齐('centerContinuous', 'general', 'distributed',\n",
    "                    'left', 'fill', 'center', 'justify', 'right')\n",
    "vertical:垂直对齐（'distributed', 'top', 'center', 'justify', 'bottom'）\n",
    "\n",
    "\"\"\"\n",
    "a1.alignment = ali\n",
    "\n",
    "# 设置图案填充\n",
    "\n",
    "fill = PatternFill('solid', fgColor='FFA500')\n",
    "# 颜色一般使用十六进制RGB\n",
    "# 'solid'是图案填充类型，详细可查阅文档\n",
    "\n",
    "a1.fill = fill\n"
   ]
  },
  {
   "cell_type": "code",
   "execution_count": 22,
   "metadata": {},
   "outputs": [],
   "source": [
    "# 设置边框\n",
    "bian = Side(style='medium', color='000000')    # 设置边框样式\n",
    "\"\"\"\n",
    "style:边框线的风格{'dotted','slantDashDot','dashDot','hair','mediumDashDot',\n",
    "       'dashed','mediumDashed','thick','dashDotDot','medium',\n",
    "        'double','thin','mediumDashDotDot'}\n",
    "\"\"\"\n",
    "\n",
    "border = Border(top=bian, bottom=bian, left=bian, right=bian)\n",
    "\"\"\"\n",
    "top（上）,bottom（下）,left（左）,right（右）:必须是 Side类型\n",
    "diagonal: 斜线 side类型 \n",
    "diagonalDownd: 右斜线 bool\n",
    "diagonalDown: 左斜线 bool\n",
    "\"\"\"\n",
    "\n",
    "# a1.border = border\n",
    "for item in ws['A1:E1'][0]:   # 去元组中的每一个cell更改样式\n",
    "    item.border = border\n",
    "\n",
    "wb.save('./book.xlsx')  # 保存更改"
   ]
  },
  {
   "cell_type": "code",
   "execution_count": 23,
   "metadata": {},
   "outputs": [],
   "source": [
    "# 现在我们对整个表进行设置\n",
    "\n",
    "# 读取\n",
    "wb = load_workbook('./book.xlsx')\n",
    "ws = wb['5a_']\n",
    "\n",
    "# 读取数据表格范围\n",
    "rows = ws.max_row\n",
    "cols = ws.max_column\n",
    "\n",
    "# 字体\n",
    "font1 = Font(name='微软雅黑', size=11, b=True)\n",
    "font2 = Font(name='微软雅黑', size=11)\n",
    "\n",
    "# 边框\n",
    "line_t = Side(style='thin', color='000000')  # 细边框\n",
    "line_m = Side(style='medium', color='000000')  # 粗边框\n",
    "border1 = Border(top=line_m, bottom=line_t, left=line_t, right=line_t)\n",
    "# 与标题相邻的边设置与标题一样\n",
    "border2 = Border(top=line_t, bottom=line_t, left=line_t, right=line_t)\n",
    "\n",
    "# 填充\n",
    "fill = PatternFill('solid', fgColor='CFCFCF')\n",
    "\n",
    "# 对齐\n",
    "alignment = Alignment(horizontal='center', vertical='center')\n",
    "\n",
    "# 将样式打包命名\n",
    "sty1 = NamedStyle(name='sty1', font=font1, fill=fill,\n",
    "                  border=border1, alignment=alignment)\n",
    "sty2 = NamedStyle(name='sty2', font=font2, border=border2, alignment=alignment)\n",
    "\n",
    "for r in range(2, rows+1):\n",
    "    for c in range(1, cols):\n",
    "        if r == 2:\n",
    "            ws.cell(r, c).style = sty1\n",
    "        else:\n",
    "            ws.cell(r, c).style = sty2\n",
    "\n",
    "wb.save('./book.xlsx')"
   ]
  },
  {
   "cell_type": "code",
   "execution_count": null,
   "metadata": {},
   "outputs": [],
   "source": []
  }
 ],
 "metadata": {
  "kernelspec": {
   "display_name": "Python 3",
   "language": "python",
   "name": "python3"
  },
  "language_info": {
   "codemirror_mode": {
    "name": "ipython",
    "version": 3
   },
   "file_extension": ".py",
   "mimetype": "text/x-python",
   "name": "python",
   "nbconvert_exporter": "python",
   "pygments_lexer": "ipython3",
   "version": "3.7.0"
  }
 },
 "nbformat": 4,
 "nbformat_minor": 2
}
